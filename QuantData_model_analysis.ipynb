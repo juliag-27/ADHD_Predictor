{
  "cells": [
    {
      "cell_type": "markdown",
      "source": [
        "## Data uploader and imports"
      ],
      "metadata": {
        "id": "YcCc98dDAsOf"
      }
    },
    {
      "cell_type": "code",
      "execution_count": null,
      "metadata": {
        "id": "coaP7ayktyVj"
      },
      "outputs": [],
      "source": [
        "import numpy as np # linear algebra\n",
        "import pandas as pd # data processing, CSV file I/O (e.g. pd.read_csv)\n",
        "import seaborn as sns\n",
        "import matplotlib.pyplot as plt"
      ]
    },
    {
      "cell_type": "code",
      "execution_count": null,
      "metadata": {
        "colab": {
          "base_uri": "https://localhost:8080/"
        },
        "id": "sBET47cfgUrK",
        "outputId": "9386bac1-4d2a-417c-dcd2-2b49aaee63c1"
      },
      "outputs": [
        {
          "output_type": "stream",
          "name": "stderr",
          "text": [
            "WARNING:root:pydrive is deprecated and no longer maintained. We recommend that you migrate your projects to pydrive2, the maintained fork of pydrive\n"
          ]
        },
        {
          "output_type": "stream",
          "name": "stdout",
          "text": [
            "newwidsdatathon2025.zip\n",
            "Archive:  newwidsdatathon2025.zip\n",
            "  inflating: Data Dictionary.xlsx    \n",
            "  inflating: SAMPLE_SUBMISSION.xlsx  \n",
            "  inflating: TEST/TEST_CATEGORICAL.xlsx  \n",
            "  inflating: TEST/TEST_FUNCTIONAL_CONNECTOME_MATRICES.csv  \n",
            "  inflating: TEST/TEST_QUANTITATIVE_METADATA.xlsx  \n",
            "  inflating: TRAIN_NEW/TRAINING_SOLUTIONS.xlsx  \n",
            "  inflating: TRAIN_NEW/TRAIN_CATEGORICAL_METADATA_new.xlsx  \n",
            "  inflating: TRAIN_NEW/TRAIN_FUNCTIONAL_CONNECTOME_MATRICES_new_36P_Pearson.csv  \n",
            "  inflating: TRAIN_NEW/TRAIN_QUANTITATIVE_METADATA_new.xlsx  \n",
            "  inflating: TRAIN_OLD/TRAINING_SOLUTIONS.xlsx  \n",
            "  inflating: TRAIN_OLD/TRAIN_CATEGORICAL_METADATA.xlsx  \n",
            "  inflating: TRAIN_OLD/TRAIN_FUNCTIONAL_CONNECTOME_MATRICES.csv  \n",
            "  inflating: TRAIN_OLD/TRAIN_QUANTITATIVE_METADATA.xlsx  \n"
          ]
        }
      ],
      "source": [
        "file_id = \"1rVYGtWzw9s9Bw80-XaIN8gYBsBG79K8B\" #@param {type:\"string\"}\n",
        "!pip install -U -q PyDrive\n",
        "\n",
        "from pydrive.auth import GoogleAuth\n",
        "from pydrive.drive import GoogleDrive\n",
        "from google.colab import auth\n",
        "from oauth2client.client import GoogleCredentials\n",
        "\n",
        "# 1. Authenticate and create the PyDrive client.\n",
        "auth.authenticate_user()\n",
        "gauth = GoogleAuth()\n",
        "gauth.credentials = GoogleCredentials.get_application_default()\n",
        "drive = GoogleDrive(gauth)\n",
        "\n",
        "# PyDrive reference:\n",
        "# https://googledrive.github.io/PyDrive/docs/build/html/index.html\n",
        "\n",
        "\n",
        "from google.colab import auth\n",
        "auth.authenticate_user()\n",
        "\n",
        "from googleapiclient.discovery import build\n",
        "drive_service = build('drive', 'v3')\n",
        "\n",
        "# Replace the assignment below with your file ID\n",
        "# to download a different file.\n",
        "#\n",
        "# A file ID looks like: 1gLBqEWEBQDYbKCDigHnUXNTkzl-OslSO\n",
        "\n",
        "import io\n",
        "from googleapiclient.http import MediaIoBaseDownload\n",
        "\n",
        "request = drive_service.files().get_media(fileId=file_id)\n",
        "downloaded = io.BytesIO()\n",
        "downloader = MediaIoBaseDownload(downloaded, request)\n",
        "done = False\n",
        "while done is False:\n",
        "  # _ is a placeholder for a progress object that we ignore.\n",
        "  # (Our file is small, so we skip reporting progress.)\n",
        "  _, done = downloader.next_chunk()\n",
        "\n",
        "fileId = drive.CreateFile({'id': file_id }) #DRIVE_FILE_ID is file id example: 1iytA1n2z4go3uVCwE_vIKouTKyIDjEq\n",
        "print(fileId['title'])\n",
        "fileId.GetContentFile(fileId['title'])  # Save Drive file as a local file\n",
        "\n",
        "!unzip {fileId['title']}"
      ]
    },
    {
      "cell_type": "markdown",
      "metadata": {
        "id": "aZ5-gk98goB7"
      },
      "source": [
        "https://drive.google.com/file/d/1VpSCc_ms2dj59bMAAOqCu0OI0jjb-8Hq/view?usp=sharing"
      ]
    },
    {
      "cell_type": "markdown",
      "metadata": {
        "id": "2m8iVKNMGXB3"
      },
      "source": [
        "## Data Exploration\n",
        "\n",
        "Imported two datasets - train_quantitative and train_answers. Both datasets are loaded permanently into the folder in this colab (to see how to do it, check [this stackoverflow post](https://stackoverflow.com/questions/50426015/how-to-upload-data-permanently-on-google-colaboratory). Checked out their formats and plotted the distribution of the data."
      ]
    },
    {
      "cell_type": "code",
      "execution_count": null,
      "metadata": {
        "id": "6CRP1duhxIVA"
      },
      "outputs": [],
      "source": [
        "train_quantitative = pd.read_excel('TRAIN_NEW/TRAIN_QUANTITATIVE_METADATA_new.xlsx')"
      ]
    },
    {
      "cell_type": "code",
      "execution_count": null,
      "metadata": {
        "id": "0uso0cD-0F1I"
      },
      "outputs": [],
      "source": [
        "train_answers = pd.read_excel('TRAIN_NEW/TRAINING_SOLUTIONS.xlsx')"
      ]
    },
    {
      "cell_type": "code",
      "execution_count": null,
      "metadata": {
        "colab": {
          "base_uri": "https://localhost:8080/",
          "height": 226
        },
        "id": "71d370mKxgQf",
        "outputId": "fdd5f208-1c13-4fac-9ce0-52547674cbe4"
      },
      "outputs": [
        {
          "output_type": "execute_result",
          "data": {
            "text/plain": [
              "  participant_id  EHQ_EHQ_Total  ColorVision_CV_Score  APQ_P_APQ_P_CP  \\\n",
              "0   00aIpNTbG5uh         100.00                  13.0             3.0   \n",
              "1   00fV0OyyoLfw          92.27                  14.0             3.0   \n",
              "2   04X1eiS79T4B          86.67                  14.0             3.0   \n",
              "3   05ocQutkURd6          93.34                  14.0             3.0   \n",
              "4   06YUNBA9ZRLq           0.00                  14.0             8.0   \n",
              "\n",
              "   APQ_P_APQ_P_ID  APQ_P_APQ_P_INV  APQ_P_APQ_P_OPD  APQ_P_APQ_P_PM  \\\n",
              "0            15.0             44.0             14.0            20.0   \n",
              "1            12.0             35.0             25.0            28.0   \n",
              "2            21.0             37.0             18.0            26.0   \n",
              "3            11.0             42.0             15.0            20.0   \n",
              "4            12.0             35.0             22.0            12.0   \n",
              "\n",
              "   APQ_P_APQ_P_PP  SDQ_SDQ_Conduct_Problems  SDQ_SDQ_Difficulties_Total  \\\n",
              "0            27.0                       3.0                        17.0   \n",
              "1            30.0                       5.0                        20.0   \n",
              "2            28.0                       3.0                        24.0   \n",
              "3            28.0                       0.0                         5.0   \n",
              "4            24.0                       6.0                        23.0   \n",
              "\n",
              "   SDQ_SDQ_Emotional_Problems  SDQ_SDQ_Externalizing  \\\n",
              "0                         4.0                   11.0   \n",
              "1                         4.0                   13.0   \n",
              "2                         7.0                   10.0   \n",
              "3                         0.0                    3.0   \n",
              "4                         7.0                   15.0   \n",
              "\n",
              "   SDQ_SDQ_Generating_Impact  SDQ_SDQ_Hyperactivity  SDQ_SDQ_Internalizing  \\\n",
              "0                        5.0                    8.0                    6.0   \n",
              "1                        5.0                    8.0                    7.0   \n",
              "2                       10.0                    7.0                   14.0   \n",
              "3                        0.0                    3.0                    2.0   \n",
              "4                        8.0                    9.0                    8.0   \n",
              "\n",
              "   SDQ_SDQ_Peer_Problems  SDQ_SDQ_Prosocial  MRI_Track_Age_at_Scan  \n",
              "0                    2.0                9.0              14.274127  \n",
              "1                    3.0                8.0                    NaN  \n",
              "2                    7.0                7.0              13.463381  \n",
              "3                    2.0                6.0               9.572553  \n",
              "4                    1.0                4.0               6.654574  "
            ],
            "text/html": [
              "\n",
              "  <div id=\"df-6a9fe9fb-1d48-4b0e-93c7-51b4c46c55ae\" class=\"colab-df-container\">\n",
              "    <div>\n",
              "<style scoped>\n",
              "    .dataframe tbody tr th:only-of-type {\n",
              "        vertical-align: middle;\n",
              "    }\n",
              "\n",
              "    .dataframe tbody tr th {\n",
              "        vertical-align: top;\n",
              "    }\n",
              "\n",
              "    .dataframe thead th {\n",
              "        text-align: right;\n",
              "    }\n",
              "</style>\n",
              "<table border=\"1\" class=\"dataframe\">\n",
              "  <thead>\n",
              "    <tr style=\"text-align: right;\">\n",
              "      <th></th>\n",
              "      <th>participant_id</th>\n",
              "      <th>EHQ_EHQ_Total</th>\n",
              "      <th>ColorVision_CV_Score</th>\n",
              "      <th>APQ_P_APQ_P_CP</th>\n",
              "      <th>APQ_P_APQ_P_ID</th>\n",
              "      <th>APQ_P_APQ_P_INV</th>\n",
              "      <th>APQ_P_APQ_P_OPD</th>\n",
              "      <th>APQ_P_APQ_P_PM</th>\n",
              "      <th>APQ_P_APQ_P_PP</th>\n",
              "      <th>SDQ_SDQ_Conduct_Problems</th>\n",
              "      <th>SDQ_SDQ_Difficulties_Total</th>\n",
              "      <th>SDQ_SDQ_Emotional_Problems</th>\n",
              "      <th>SDQ_SDQ_Externalizing</th>\n",
              "      <th>SDQ_SDQ_Generating_Impact</th>\n",
              "      <th>SDQ_SDQ_Hyperactivity</th>\n",
              "      <th>SDQ_SDQ_Internalizing</th>\n",
              "      <th>SDQ_SDQ_Peer_Problems</th>\n",
              "      <th>SDQ_SDQ_Prosocial</th>\n",
              "      <th>MRI_Track_Age_at_Scan</th>\n",
              "    </tr>\n",
              "  </thead>\n",
              "  <tbody>\n",
              "    <tr>\n",
              "      <th>0</th>\n",
              "      <td>00aIpNTbG5uh</td>\n",
              "      <td>100.00</td>\n",
              "      <td>13.0</td>\n",
              "      <td>3.0</td>\n",
              "      <td>15.0</td>\n",
              "      <td>44.0</td>\n",
              "      <td>14.0</td>\n",
              "      <td>20.0</td>\n",
              "      <td>27.0</td>\n",
              "      <td>3.0</td>\n",
              "      <td>17.0</td>\n",
              "      <td>4.0</td>\n",
              "      <td>11.0</td>\n",
              "      <td>5.0</td>\n",
              "      <td>8.0</td>\n",
              "      <td>6.0</td>\n",
              "      <td>2.0</td>\n",
              "      <td>9.0</td>\n",
              "      <td>14.274127</td>\n",
              "    </tr>\n",
              "    <tr>\n",
              "      <th>1</th>\n",
              "      <td>00fV0OyyoLfw</td>\n",
              "      <td>92.27</td>\n",
              "      <td>14.0</td>\n",
              "      <td>3.0</td>\n",
              "      <td>12.0</td>\n",
              "      <td>35.0</td>\n",
              "      <td>25.0</td>\n",
              "      <td>28.0</td>\n",
              "      <td>30.0</td>\n",
              "      <td>5.0</td>\n",
              "      <td>20.0</td>\n",
              "      <td>4.0</td>\n",
              "      <td>13.0</td>\n",
              "      <td>5.0</td>\n",
              "      <td>8.0</td>\n",
              "      <td>7.0</td>\n",
              "      <td>3.0</td>\n",
              "      <td>8.0</td>\n",
              "      <td>NaN</td>\n",
              "    </tr>\n",
              "    <tr>\n",
              "      <th>2</th>\n",
              "      <td>04X1eiS79T4B</td>\n",
              "      <td>86.67</td>\n",
              "      <td>14.0</td>\n",
              "      <td>3.0</td>\n",
              "      <td>21.0</td>\n",
              "      <td>37.0</td>\n",
              "      <td>18.0</td>\n",
              "      <td>26.0</td>\n",
              "      <td>28.0</td>\n",
              "      <td>3.0</td>\n",
              "      <td>24.0</td>\n",
              "      <td>7.0</td>\n",
              "      <td>10.0</td>\n",
              "      <td>10.0</td>\n",
              "      <td>7.0</td>\n",
              "      <td>14.0</td>\n",
              "      <td>7.0</td>\n",
              "      <td>7.0</td>\n",
              "      <td>13.463381</td>\n",
              "    </tr>\n",
              "    <tr>\n",
              "      <th>3</th>\n",
              "      <td>05ocQutkURd6</td>\n",
              "      <td>93.34</td>\n",
              "      <td>14.0</td>\n",
              "      <td>3.0</td>\n",
              "      <td>11.0</td>\n",
              "      <td>42.0</td>\n",
              "      <td>15.0</td>\n",
              "      <td>20.0</td>\n",
              "      <td>28.0</td>\n",
              "      <td>0.0</td>\n",
              "      <td>5.0</td>\n",
              "      <td>0.0</td>\n",
              "      <td>3.0</td>\n",
              "      <td>0.0</td>\n",
              "      <td>3.0</td>\n",
              "      <td>2.0</td>\n",
              "      <td>2.0</td>\n",
              "      <td>6.0</td>\n",
              "      <td>9.572553</td>\n",
              "    </tr>\n",
              "    <tr>\n",
              "      <th>4</th>\n",
              "      <td>06YUNBA9ZRLq</td>\n",
              "      <td>0.00</td>\n",
              "      <td>14.0</td>\n",
              "      <td>8.0</td>\n",
              "      <td>12.0</td>\n",
              "      <td>35.0</td>\n",
              "      <td>22.0</td>\n",
              "      <td>12.0</td>\n",
              "      <td>24.0</td>\n",
              "      <td>6.0</td>\n",
              "      <td>23.0</td>\n",
              "      <td>7.0</td>\n",
              "      <td>15.0</td>\n",
              "      <td>8.0</td>\n",
              "      <td>9.0</td>\n",
              "      <td>8.0</td>\n",
              "      <td>1.0</td>\n",
              "      <td>4.0</td>\n",
              "      <td>6.654574</td>\n",
              "    </tr>\n",
              "  </tbody>\n",
              "</table>\n",
              "</div>\n",
              "    <div class=\"colab-df-buttons\">\n",
              "\n",
              "  <div class=\"colab-df-container\">\n",
              "    <button class=\"colab-df-convert\" onclick=\"convertToInteractive('df-6a9fe9fb-1d48-4b0e-93c7-51b4c46c55ae')\"\n",
              "            title=\"Convert this dataframe to an interactive table.\"\n",
              "            style=\"display:none;\">\n",
              "\n",
              "  <svg xmlns=\"http://www.w3.org/2000/svg\" height=\"24px\" viewBox=\"0 -960 960 960\">\n",
              "    <path d=\"M120-120v-720h720v720H120Zm60-500h600v-160H180v160Zm220 220h160v-160H400v160Zm0 220h160v-160H400v160ZM180-400h160v-160H180v160Zm440 0h160v-160H620v160ZM180-180h160v-160H180v160Zm440 0h160v-160H620v160Z\"/>\n",
              "  </svg>\n",
              "    </button>\n",
              "\n",
              "  <style>\n",
              "    .colab-df-container {\n",
              "      display:flex;\n",
              "      gap: 12px;\n",
              "    }\n",
              "\n",
              "    .colab-df-convert {\n",
              "      background-color: #E8F0FE;\n",
              "      border: none;\n",
              "      border-radius: 50%;\n",
              "      cursor: pointer;\n",
              "      display: none;\n",
              "      fill: #1967D2;\n",
              "      height: 32px;\n",
              "      padding: 0 0 0 0;\n",
              "      width: 32px;\n",
              "    }\n",
              "\n",
              "    .colab-df-convert:hover {\n",
              "      background-color: #E2EBFA;\n",
              "      box-shadow: 0px 1px 2px rgba(60, 64, 67, 0.3), 0px 1px 3px 1px rgba(60, 64, 67, 0.15);\n",
              "      fill: #174EA6;\n",
              "    }\n",
              "\n",
              "    .colab-df-buttons div {\n",
              "      margin-bottom: 4px;\n",
              "    }\n",
              "\n",
              "    [theme=dark] .colab-df-convert {\n",
              "      background-color: #3B4455;\n",
              "      fill: #D2E3FC;\n",
              "    }\n",
              "\n",
              "    [theme=dark] .colab-df-convert:hover {\n",
              "      background-color: #434B5C;\n",
              "      box-shadow: 0px 1px 3px 1px rgba(0, 0, 0, 0.15);\n",
              "      filter: drop-shadow(0px 1px 2px rgba(0, 0, 0, 0.3));\n",
              "      fill: #FFFFFF;\n",
              "    }\n",
              "  </style>\n",
              "\n",
              "    <script>\n",
              "      const buttonEl =\n",
              "        document.querySelector('#df-6a9fe9fb-1d48-4b0e-93c7-51b4c46c55ae button.colab-df-convert');\n",
              "      buttonEl.style.display =\n",
              "        google.colab.kernel.accessAllowed ? 'block' : 'none';\n",
              "\n",
              "      async function convertToInteractive(key) {\n",
              "        const element = document.querySelector('#df-6a9fe9fb-1d48-4b0e-93c7-51b4c46c55ae');\n",
              "        const dataTable =\n",
              "          await google.colab.kernel.invokeFunction('convertToInteractive',\n",
              "                                                    [key], {});\n",
              "        if (!dataTable) return;\n",
              "\n",
              "        const docLinkHtml = 'Like what you see? Visit the ' +\n",
              "          '<a target=\"_blank\" href=https://colab.research.google.com/notebooks/data_table.ipynb>data table notebook</a>'\n",
              "          + ' to learn more about interactive tables.';\n",
              "        element.innerHTML = '';\n",
              "        dataTable['output_type'] = 'display_data';\n",
              "        await google.colab.output.renderOutput(dataTable, element);\n",
              "        const docLink = document.createElement('div');\n",
              "        docLink.innerHTML = docLinkHtml;\n",
              "        element.appendChild(docLink);\n",
              "      }\n",
              "    </script>\n",
              "  </div>\n",
              "\n",
              "\n",
              "<div id=\"df-439c8c45-e0e3-424e-a761-6a591da10673\">\n",
              "  <button class=\"colab-df-quickchart\" onclick=\"quickchart('df-439c8c45-e0e3-424e-a761-6a591da10673')\"\n",
              "            title=\"Suggest charts\"\n",
              "            style=\"display:none;\">\n",
              "\n",
              "<svg xmlns=\"http://www.w3.org/2000/svg\" height=\"24px\"viewBox=\"0 0 24 24\"\n",
              "     width=\"24px\">\n",
              "    <g>\n",
              "        <path d=\"M19 3H5c-1.1 0-2 .9-2 2v14c0 1.1.9 2 2 2h14c1.1 0 2-.9 2-2V5c0-1.1-.9-2-2-2zM9 17H7v-7h2v7zm4 0h-2V7h2v10zm4 0h-2v-4h2v4z\"/>\n",
              "    </g>\n",
              "</svg>\n",
              "  </button>\n",
              "\n",
              "<style>\n",
              "  .colab-df-quickchart {\n",
              "      --bg-color: #E8F0FE;\n",
              "      --fill-color: #1967D2;\n",
              "      --hover-bg-color: #E2EBFA;\n",
              "      --hover-fill-color: #174EA6;\n",
              "      --disabled-fill-color: #AAA;\n",
              "      --disabled-bg-color: #DDD;\n",
              "  }\n",
              "\n",
              "  [theme=dark] .colab-df-quickchart {\n",
              "      --bg-color: #3B4455;\n",
              "      --fill-color: #D2E3FC;\n",
              "      --hover-bg-color: #434B5C;\n",
              "      --hover-fill-color: #FFFFFF;\n",
              "      --disabled-bg-color: #3B4455;\n",
              "      --disabled-fill-color: #666;\n",
              "  }\n",
              "\n",
              "  .colab-df-quickchart {\n",
              "    background-color: var(--bg-color);\n",
              "    border: none;\n",
              "    border-radius: 50%;\n",
              "    cursor: pointer;\n",
              "    display: none;\n",
              "    fill: var(--fill-color);\n",
              "    height: 32px;\n",
              "    padding: 0;\n",
              "    width: 32px;\n",
              "  }\n",
              "\n",
              "  .colab-df-quickchart:hover {\n",
              "    background-color: var(--hover-bg-color);\n",
              "    box-shadow: 0 1px 2px rgba(60, 64, 67, 0.3), 0 1px 3px 1px rgba(60, 64, 67, 0.15);\n",
              "    fill: var(--button-hover-fill-color);\n",
              "  }\n",
              "\n",
              "  .colab-df-quickchart-complete:disabled,\n",
              "  .colab-df-quickchart-complete:disabled:hover {\n",
              "    background-color: var(--disabled-bg-color);\n",
              "    fill: var(--disabled-fill-color);\n",
              "    box-shadow: none;\n",
              "  }\n",
              "\n",
              "  .colab-df-spinner {\n",
              "    border: 2px solid var(--fill-color);\n",
              "    border-color: transparent;\n",
              "    border-bottom-color: var(--fill-color);\n",
              "    animation:\n",
              "      spin 1s steps(1) infinite;\n",
              "  }\n",
              "\n",
              "  @keyframes spin {\n",
              "    0% {\n",
              "      border-color: transparent;\n",
              "      border-bottom-color: var(--fill-color);\n",
              "      border-left-color: var(--fill-color);\n",
              "    }\n",
              "    20% {\n",
              "      border-color: transparent;\n",
              "      border-left-color: var(--fill-color);\n",
              "      border-top-color: var(--fill-color);\n",
              "    }\n",
              "    30% {\n",
              "      border-color: transparent;\n",
              "      border-left-color: var(--fill-color);\n",
              "      border-top-color: var(--fill-color);\n",
              "      border-right-color: var(--fill-color);\n",
              "    }\n",
              "    40% {\n",
              "      border-color: transparent;\n",
              "      border-right-color: var(--fill-color);\n",
              "      border-top-color: var(--fill-color);\n",
              "    }\n",
              "    60% {\n",
              "      border-color: transparent;\n",
              "      border-right-color: var(--fill-color);\n",
              "    }\n",
              "    80% {\n",
              "      border-color: transparent;\n",
              "      border-right-color: var(--fill-color);\n",
              "      border-bottom-color: var(--fill-color);\n",
              "    }\n",
              "    90% {\n",
              "      border-color: transparent;\n",
              "      border-bottom-color: var(--fill-color);\n",
              "    }\n",
              "  }\n",
              "</style>\n",
              "\n",
              "  <script>\n",
              "    async function quickchart(key) {\n",
              "      const quickchartButtonEl =\n",
              "        document.querySelector('#' + key + ' button');\n",
              "      quickchartButtonEl.disabled = true;  // To prevent multiple clicks.\n",
              "      quickchartButtonEl.classList.add('colab-df-spinner');\n",
              "      try {\n",
              "        const charts = await google.colab.kernel.invokeFunction(\n",
              "            'suggestCharts', [key], {});\n",
              "      } catch (error) {\n",
              "        console.error('Error during call to suggestCharts:', error);\n",
              "      }\n",
              "      quickchartButtonEl.classList.remove('colab-df-spinner');\n",
              "      quickchartButtonEl.classList.add('colab-df-quickchart-complete');\n",
              "    }\n",
              "    (() => {\n",
              "      let quickchartButtonEl =\n",
              "        document.querySelector('#df-439c8c45-e0e3-424e-a761-6a591da10673 button');\n",
              "      quickchartButtonEl.style.display =\n",
              "        google.colab.kernel.accessAllowed ? 'block' : 'none';\n",
              "    })();\n",
              "  </script>\n",
              "</div>\n",
              "\n",
              "    </div>\n",
              "  </div>\n"
            ],
            "application/vnd.google.colaboratory.intrinsic+json": {
              "type": "dataframe",
              "variable_name": "train_quantitative",
              "summary": "{\n  \"name\": \"train_quantitative\",\n  \"rows\": 1213,\n  \"fields\": [\n    {\n      \"column\": \"participant_id\",\n      \"properties\": {\n        \"dtype\": \"string\",\n        \"num_unique_values\": 1213,\n        \"samples\": [\n          \"ExV0vwCIzAWp\",\n          \"oSlcxZbncT7a\",\n          \"28mwHUApaS7q\"\n        ],\n        \"semantic_type\": \"\",\n        \"description\": \"\"\n      }\n    },\n    {\n      \"column\": \"EHQ_EHQ_Total\",\n      \"properties\": {\n        \"dtype\": \"number\",\n        \"std\": 49.74463063656706,\n        \"min\": -100.0,\n        \"max\": 100.0,\n        \"num_unique_values\": 158,\n        \"samples\": [\n          -7.8,\n          20.0,\n          -12.27\n        ],\n        \"semantic_type\": \"\",\n        \"description\": \"\"\n      }\n    },\n    {\n      \"column\": \"ColorVision_CV_Score\",\n      \"properties\": {\n        \"dtype\": \"number\",\n        \"std\": 2.11282985832935,\n        \"min\": 0.0,\n        \"max\": 14.0,\n        \"num_unique_values\": 14,\n        \"samples\": [\n          2.0,\n          4.0,\n          13.0\n        ],\n        \"semantic_type\": \"\",\n        \"description\": \"\"\n      }\n    },\n    {\n      \"column\": \"APQ_P_APQ_P_CP\",\n      \"properties\": {\n        \"dtype\": \"number\",\n        \"std\": 1.3303482752438773,\n        \"min\": 2.0,\n        \"max\": 12.0,\n        \"num_unique_values\": 10,\n        \"samples\": [\n          9.0,\n          8.0,\n          2.0\n        ],\n        \"semantic_type\": \"\",\n        \"description\": \"\"\n      }\n    },\n    {\n      \"column\": \"APQ_P_APQ_P_ID\",\n      \"properties\": {\n        \"dtype\": \"number\",\n        \"std\": 3.5935621036569434,\n        \"min\": 5.0,\n        \"max\": 28.0,\n        \"num_unique_values\": 21,\n        \"samples\": [\n          15.0,\n          24.0,\n          20.0\n        ],\n        \"semantic_type\": \"\",\n        \"description\": \"\"\n      }\n    },\n    {\n      \"column\": \"APQ_P_APQ_P_INV\",\n      \"properties\": {\n        \"dtype\": \"number\",\n        \"std\": 4.872729087417771,\n        \"min\": 23.0,\n        \"max\": 50.0,\n        \"num_unique_values\": 26,\n        \"samples\": [\n          43.0,\n          49.0,\n          44.0\n        ],\n        \"semantic_type\": \"\",\n        \"description\": \"\"\n      }\n    },\n    {\n      \"column\": \"APQ_P_APQ_P_OPD\",\n      \"properties\": {\n        \"dtype\": \"number\",\n        \"std\": 3.3339651080447363,\n        \"min\": 7.0,\n        \"max\": 28.0,\n        \"num_unique_values\": 21,\n        \"samples\": [\n          14.0,\n          26.0,\n          27.0\n        ],\n        \"semantic_type\": \"\",\n        \"description\": \"\"\n      }\n    },\n    {\n      \"column\": \"APQ_P_APQ_P_PM\",\n      \"properties\": {\n        \"dtype\": \"number\",\n        \"std\": 5.146547633078932,\n        \"min\": 5.0,\n        \"max\": 37.0,\n        \"num_unique_values\": 30,\n        \"samples\": [\n          5.0,\n          30.0,\n          34.0\n        ],\n        \"semantic_type\": \"\",\n        \"description\": \"\"\n      }\n    },\n    {\n      \"column\": \"APQ_P_APQ_P_PP\",\n      \"properties\": {\n        \"dtype\": \"number\",\n        \"std\": 3.0537201528847175,\n        \"min\": 13.0,\n        \"max\": 30.0,\n        \"num_unique_values\": 17,\n        \"samples\": [\n          27.0,\n          30.0,\n          21.0\n        ],\n        \"semantic_type\": \"\",\n        \"description\": \"\"\n      }\n    },\n    {\n      \"column\": \"SDQ_SDQ_Conduct_Problems\",\n      \"properties\": {\n        \"dtype\": \"number\",\n        \"std\": 2.022991789797228,\n        \"min\": 0.0,\n        \"max\": 10.0,\n        \"num_unique_values\": 11,\n        \"samples\": [\n          2.0,\n          3.0,\n          9.0\n        ],\n        \"semantic_type\": \"\",\n        \"description\": \"\"\n      }\n    },\n    {\n      \"column\": \"SDQ_SDQ_Difficulties_Total\",\n      \"properties\": {\n        \"dtype\": \"number\",\n        \"std\": 6.517330437538689,\n        \"min\": 0.0,\n        \"max\": 34.0,\n        \"num_unique_values\": 34,\n        \"samples\": [\n          9.0,\n          4.0,\n          13.0\n        ],\n        \"semantic_type\": \"\",\n        \"description\": \"\"\n      }\n    },\n    {\n      \"column\": \"SDQ_SDQ_Emotional_Problems\",\n      \"properties\": {\n        \"dtype\": \"number\",\n        \"std\": 2.166399195444506,\n        \"min\": 0.0,\n        \"max\": 10.0,\n        \"num_unique_values\": 11,\n        \"samples\": [\n          6.0,\n          4.0,\n          9.0\n        ],\n        \"semantic_type\": \"\",\n        \"description\": \"\"\n      }\n    },\n    {\n      \"column\": \"SDQ_SDQ_Externalizing\",\n      \"properties\": {\n        \"dtype\": \"number\",\n        \"std\": 4.130398543440363,\n        \"min\": 0.0,\n        \"max\": 20.0,\n        \"num_unique_values\": 21,\n        \"samples\": [\n          11.0,\n          17.0,\n          4.0\n        ],\n        \"semantic_type\": \"\",\n        \"description\": \"\"\n      }\n    },\n    {\n      \"column\": \"SDQ_SDQ_Generating_Impact\",\n      \"properties\": {\n        \"dtype\": \"number\",\n        \"std\": 2.8080786000657745,\n        \"min\": 0.0,\n        \"max\": 10.0,\n        \"num_unique_values\": 11,\n        \"samples\": [\n          6.0,\n          5.0,\n          1.0\n        ],\n        \"semantic_type\": \"\",\n        \"description\": \"\"\n      }\n    },\n    {\n      \"column\": \"SDQ_SDQ_Hyperactivity\",\n      \"properties\": {\n        \"dtype\": \"number\",\n        \"std\": 2.807063481384422,\n        \"min\": 0.0,\n        \"max\": 10.0,\n        \"num_unique_values\": 11,\n        \"samples\": [\n          5.0,\n          8.0,\n          0.0\n        ],\n        \"semantic_type\": \"\",\n        \"description\": \"\"\n      }\n    },\n    {\n      \"column\": \"SDQ_SDQ_Internalizing\",\n      \"properties\": {\n        \"dtype\": \"number\",\n        \"std\": 3.5104688306166754,\n        \"min\": 0.0,\n        \"max\": 17.0,\n        \"num_unique_values\": 18,\n        \"samples\": [\n          6.0,\n          7.0,\n          0.0\n        ],\n        \"semantic_type\": \"\",\n        \"description\": \"\"\n      }\n    },\n    {\n      \"column\": \"SDQ_SDQ_Peer_Problems\",\n      \"properties\": {\n        \"dtype\": \"number\",\n        \"std\": 2.0890408916043275,\n        \"min\": 0.0,\n        \"max\": 9.0,\n        \"num_unique_values\": 10,\n        \"samples\": [\n          8.0,\n          3.0,\n          4.0\n        ],\n        \"semantic_type\": \"\",\n        \"description\": \"\"\n      }\n    },\n    {\n      \"column\": \"SDQ_SDQ_Prosocial\",\n      \"properties\": {\n        \"dtype\": \"number\",\n        \"std\": 2.0948318429550965,\n        \"min\": 0.0,\n        \"max\": 10.0,\n        \"num_unique_values\": 11,\n        \"samples\": [\n          5.0,\n          9.0,\n          2.0\n        ],\n        \"semantic_type\": \"\",\n        \"description\": \"\"\n      }\n    },\n    {\n      \"column\": \"MRI_Track_Age_at_Scan\",\n      \"properties\": {\n        \"dtype\": \"number\",\n        \"std\": 3.234372258813215,\n        \"min\": 0.0,\n        \"max\": 21.564453,\n        \"num_unique_values\": 838,\n        \"samples\": [\n          7.886379,\n          7.599133,\n          7.347364\n        ],\n        \"semantic_type\": \"\",\n        \"description\": \"\"\n      }\n    }\n  ]\n}"
            }
          },
          "metadata": {},
          "execution_count": 78
        }
      ],
      "source": [
        "train_quantitative.head()"
      ]
    },
    {
      "cell_type": "code",
      "execution_count": null,
      "metadata": {
        "colab": {
          "base_uri": "https://localhost:8080/",
          "height": 1000
        },
        "id": "U5J6KLMkzH2X",
        "outputId": "875bfb17-df9f-493d-afaf-727c66ec8b57"
      },
      "outputs": [
        {
          "output_type": "display_data",
          "data": {
            "text/plain": [
              "<Figure size 800x600 with 1 Axes>"
            ],
            "image/png": "[encoded data removed]"
          },
          "metadata": {}
        },
        {
          "output_type": "display_data",
          "data": {
            "text/plain": [
              "<Figure size 800x600 with 1 Axes>"
            ],
            "image/png": "[encoded data removed]"
          },
          "metadata": {}
        },
        {
          "output_type": "display_data",
          "data": {
            "text/plain": [
              "<Figure size 800x600 with 1 Axes>"
            ],
            "image/png": "[encoded data removed]"
          },
          "metadata": {}
        },
        {
          "output_type": "display_data",
          "data": {
            "text/plain": [
              "<Figure size 800x600 with 1 Axes>"
            ],
            "image/png": "[encoded data removed]"
          },
          "metadata": {}
        },
        {
          "output_type": "display_data",
          "data": {
            "text/plain": [
              "<Figure size 800x600 with 1 Axes>"
            ],
            "image/png": "[encoded data removed]"
          },
          "metadata": {}
        },
        {
          "output_type": "display_data",
          "data": {
            "text/plain": [
              "<Figure size 800x600 with 1 Axes>"
            ],
            "image/png": "[encoded data removed]"
          },
          "metadata": {}
        },
        {
          "output_type": "display_data",
          "data": {
            "text/plain": [
              "<Figure size 800x600 with 1 Axes>"
            ],
            "image/png": "[encoded data removed]"
          },
          "metadata": {}
        },
        {
          "output_type": "display_data",
          "data": {
            "text/plain": [
              "<Figure size 800x600 with 1 Axes>"
            ],
            "image/png": "[encoded data removed]"
          },
          "metadata": {}
        },
        {
          "output_type": "display_data",
          "data": {
            "text/plain": [
              "<Figure size 800x600 with 1 Axes>"
            ],
            "image/png": "[encoded data removed]"
          },
          "metadata": {}
        },
        {
          "output_type": "display_data",
          "data": {
            "text/plain": [
              "<Figure size 800x600 with 1 Axes>"
            ],
            "image/png": "[encoded data removed]"
          },
          "metadata": {}
        },
        {
          "output_type": "display_data",
          "data": {
            "text/plain": [
              "<Figure size 800x600 with 1 Axes>"
            ],
            "image/png": "[encoded data removed]"
          },
          "metadata": {}
        },
        {
          "output_type": "display_data",
          "data": {
            "text/plain": [
              "<Figure size 800x600 with 1 Axes>"
            ],
            "image/png": "[encoded data removed]"
          },
          "metadata": {}
        },
        {
          "output_type": "display_data",
          "data": {
            "text/plain": [
              "<Figure size 800x600 with 1 Axes>"
            ],
            "image/png": "[encoded data removed]"
          },
          "metadata": {}
        },
        {
          "output_type": "display_data",
          "data": {
            "text/plain": [
              "<Figure size 800x600 with 1 Axes>"
            ],
            "image/png": "[encoded data removed]"
          },
          "metadata": {}
        },
        {
          "output_type": "display_data",
          "data": {
            "text/plain": [
              "<Figure size 800x600 with 1 Axes>"
            ],
            "image/png": "[encoded data removed]"
          },
          "metadata": {}
        },
        {
          "output_type": "display_data",
          "data": {
            "text/plain": [
              "<Figure size 800x600 with 1 Axes>"
            ],
            "image/png": "[encoded data removed]"
          },
          "metadata": {}
        },
        {
          "output_type": "display_data",
          "data": {
            "text/plain": [
              "<Figure size 800x600 with 1 Axes>"
            ],
            "image/png": "[encoded data removed]"
          },
          "metadata": {}
        },
        {
          "output_type": "display_data",
          "data": {
            "text/plain": [
              "<Figure size 800x600 with 1 Axes>"
            ],
            "image/png": "[encoded data removed]"
          },
          "metadata": {}
        },
        {
          "output_type": "display_data",
          "data": {
            "text/plain": [
              "<Figure size 800x600 with 1 Axes>"
            ],
            "image/png": "[encoded data removed]"
          },
          "metadata": {}
        }
      ],
      "source": [
        "import matplotlib.pyplot as plt\n",
        "\n",
        "# Loop through each column in the dataframe\n",
        "for column in train_quantitative.columns:\n",
        "      plt.figure(figsize=(8, 6))\n",
        "      plt.hist(train_quantitative[column], bins=20)\n",
        "      plt.title(f'Distribution of {column}')\n",
        "      plt.xlabel(column)\n",
        "      plt.ylabel('Frequency')\n",
        "      plt.show()\n"
      ]
    },
    {
      "cell_type": "code",
      "execution_count": null,
      "metadata": {
        "colab": {
          "base_uri": "https://localhost:8080/"
        },
        "id": "XSoFIWHAyECt",
        "outputId": "fb0966aa-6896-4a6b-a210-0c657992595e"
      },
      "outputs": [
        {
          "data": {
            "text/plain": [
              "Index(['participant_id', 'EHQ_EHQ_Total', 'ColorVision_CV_Score',\n",
              "       'APQ_P_APQ_P_CP', 'APQ_P_APQ_P_ID', 'APQ_P_APQ_P_INV',\n",
              "       'APQ_P_APQ_P_OPD', 'APQ_P_APQ_P_PM', 'APQ_P_APQ_P_PP',\n",
              "       'SDQ_SDQ_Conduct_Problems', 'SDQ_SDQ_Difficulties_Total',\n",
              "       'SDQ_SDQ_Emotional_Problems', 'SDQ_SDQ_Externalizing',\n",
              "       'SDQ_SDQ_Generating_Impact', 'SDQ_SDQ_Hyperactivity',\n",
              "       'SDQ_SDQ_Internalizing', 'SDQ_SDQ_Peer_Problems', 'SDQ_SDQ_Prosocial',\n",
              "       'MRI_Track_Age_at_Scan'],\n",
              "      dtype='object')"
            ]
          },
          "execution_count": 7,
          "metadata": {},
          "output_type": "execute_result"
        }
      ],
      "source": [
        "train_quantitative.columns"
      ]
    },
    {
      "cell_type": "markdown",
      "metadata": {
        "id": "O0UV6QnoG0OC"
      },
      "source": [
        "<h3> Confirming no missing values </h3>"
      ]
    },
    {
      "cell_type": "code",
      "execution_count": null,
      "metadata": {
        "colab": {
          "base_uri": "https://localhost:8080/",
          "height": 680
        },
        "id": "Dch6T6AJ1S4D",
        "outputId": "ae658886-d2f0-4804-8abd-54cd2e7a65c9"
      },
      "outputs": [
        {
          "output_type": "execute_result",
          "data": {
            "text/plain": [
              "participant_id                  0\n",
              "EHQ_EHQ_Total                  13\n",
              "ColorVision_CV_Score           23\n",
              "APQ_P_APQ_P_CP                 12\n",
              "APQ_P_APQ_P_ID                 12\n",
              "APQ_P_APQ_P_INV                12\n",
              "APQ_P_APQ_P_OPD                12\n",
              "APQ_P_APQ_P_PM                 12\n",
              "APQ_P_APQ_P_PP                 12\n",
              "SDQ_SDQ_Conduct_Problems        9\n",
              "SDQ_SDQ_Difficulties_Total      9\n",
              "SDQ_SDQ_Emotional_Problems      9\n",
              "SDQ_SDQ_Externalizing           9\n",
              "SDQ_SDQ_Generating_Impact       9\n",
              "SDQ_SDQ_Hyperactivity           9\n",
              "SDQ_SDQ_Internalizing           9\n",
              "SDQ_SDQ_Peer_Problems           9\n",
              "SDQ_SDQ_Prosocial               9\n",
              "MRI_Track_Age_at_Scan         360\n",
              "dtype: int64"
            ],
            "text/html": [
              "<div>\n",
              "<style scoped>\n",
              "    .dataframe tbody tr th:only-of-type {\n",
              "        vertical-align: middle;\n",
              "    }\n",
              "\n",
              "    .dataframe tbody tr th {\n",
              "        vertical-align: top;\n",
              "    }\n",
              "\n",
              "    .dataframe thead th {\n",
              "        text-align: right;\n",
              "    }\n",
              "</style>\n",
              "<table border=\"1\" class=\"dataframe\">\n",
              "  <thead>\n",
              "    <tr style=\"text-align: right;\">\n",
              "      <th></th>\n",
              "      <th>0</th>\n",
              "    </tr>\n",
              "  </thead>\n",
              "  <tbody>\n",
              "    <tr>\n",
              "      <th>participant_id</th>\n",
              "      <td>0</td>\n",
              "    </tr>\n",
              "    <tr>\n",
              "      <th>EHQ_EHQ_Total</th>\n",
              "      <td>13</td>\n",
              "    </tr>\n",
              "    <tr>\n",
              "      <th>ColorVision_CV_Score</th>\n",
              "      <td>23</td>\n",
              "    </tr>\n",
              "    <tr>\n",
              "      <th>APQ_P_APQ_P_CP</th>\n",
              "      <td>12</td>\n",
              "    </tr>\n",
              "    <tr>\n",
              "      <th>APQ_P_APQ_P_ID</th>\n",
              "      <td>12</td>\n",
              "    </tr>\n",
              "    <tr>\n",
              "      <th>APQ_P_APQ_P_INV</th>\n",
              "      <td>12</td>\n",
              "    </tr>\n",
              "    <tr>\n",
              "      <th>APQ_P_APQ_P_OPD</th>\n",
              "      <td>12</td>\n",
              "    </tr>\n",
              "    <tr>\n",
              "      <th>APQ_P_APQ_P_PM</th>\n",
              "      <td>12</td>\n",
              "    </tr>\n",
              "    <tr>\n",
              "      <th>APQ_P_APQ_P_PP</th>\n",
              "      <td>12</td>\n",
              "    </tr>\n",
              "    <tr>\n",
              "      <th>SDQ_SDQ_Conduct_Problems</th>\n",
              "      <td>9</td>\n",
              "    </tr>\n",
              "    <tr>\n",
              "      <th>SDQ_SDQ_Difficulties_Total</th>\n",
              "      <td>9</td>\n",
              "    </tr>\n",
              "    <tr>\n",
              "      <th>SDQ_SDQ_Emotional_Problems</th>\n",
              "      <td>9</td>\n",
              "    </tr>\n",
              "    <tr>\n",
              "      <th>SDQ_SDQ_Externalizing</th>\n",
              "      <td>9</td>\n",
              "    </tr>\n",
              "    <tr>\n",
              "      <th>SDQ_SDQ_Generating_Impact</th>\n",
              "      <td>9</td>\n",
              "    </tr>\n",
              "    <tr>\n",
              "      <th>SDQ_SDQ_Hyperactivity</th>\n",
              "      <td>9</td>\n",
              "    </tr>\n",
              "    <tr>\n",
              "      <th>SDQ_SDQ_Internalizing</th>\n",
              "      <td>9</td>\n",
              "    </tr>\n",
              "    <tr>\n",
              "      <th>SDQ_SDQ_Peer_Problems</th>\n",
              "      <td>9</td>\n",
              "    </tr>\n",
              "    <tr>\n",
              "      <th>SDQ_SDQ_Prosocial</th>\n",
              "      <td>9</td>\n",
              "    </tr>\n",
              "    <tr>\n",
              "      <th>MRI_Track_Age_at_Scan</th>\n",
              "      <td>360</td>\n",
              "    </tr>\n",
              "  </tbody>\n",
              "</table>\n",
              "</div><br><label><b>dtype:</b> int64</label>"
            ]
          },
          "metadata": {},
          "execution_count": 85
        }
      ],
      "source": [
        "train_quantitative.isna().sum()"
      ]
    },
    {
      "cell_type": "code",
      "execution_count": null,
      "metadata": {
        "colab": {
          "base_uri": "https://localhost:8080/"
        },
        "id": "6bpkz8NYtpw5",
        "outputId": "ec0de910-eec1-4839-b69f-5dd597d758f9"
      },
      "outputs": [
        {
          "output_type": "execute_result",
          "data": {
            "text/plain": [
              "(1213, 19)"
            ]
          },
          "metadata": {},
          "execution_count": 86
        }
      ],
      "source": [
        "train_quantitative.shape"
      ]
    },
    {
      "cell_type": "markdown",
      "source": [
        "<h3> Removing null values deletes like 40% of the data, will not use this"
      ],
      "metadata": {
        "id": "lg17cC3D2CmT"
      }
    },
    {
      "cell_type": "code",
      "source": [
        "train_quantitative_cleaned = train_quantitative.dropna()\n",
        "train_quantitative_cleaned.isna().sum()\n",
        "train_quantitative_cleaned.shape"
      ],
      "metadata": {
        "colab": {
          "base_uri": "https://localhost:8080/"
        },
        "id": "cBJLhuh011l3",
        "outputId": "e6ea6d80-ab03-401c-ddb6-d002252b7cbf"
      },
      "execution_count": null,
      "outputs": [
        {
          "output_type": "execute_result",
          "data": {
            "text/plain": [
              "(812, 19)"
            ]
          },
          "metadata": {},
          "execution_count": 16
        }
      ]
    },
    {
      "cell_type": "markdown",
      "source": [
        "<h3> Replace missing values in each column with the mean"
      ],
      "metadata": {
        "id": "mFSQJCXR3hNa"
      }
    },
    {
      "cell_type": "code",
      "source": [
        "numeric_columns = train_quantitative.select_dtypes(include=['number'])\n",
        "train_quantitative[numeric_columns.columns] = numeric_columns.fillna(numeric_columns.mean())"
      ],
      "metadata": {
        "id": "mjYnwnSA2qKt"
      },
      "execution_count": null,
      "outputs": []
    },
    {
      "cell_type": "code",
      "source": [
        "train_quantitative.isna().sum()"
      ],
      "metadata": {
        "colab": {
          "base_uri": "https://localhost:8080/",
          "height": 680
        },
        "id": "Ysdlrauj3XFD",
        "outputId": "6963fa4e-a2e1-4414-bba7-160a4a716195"
      },
      "execution_count": null,
      "outputs": [
        {
          "output_type": "execute_result",
          "data": {
            "text/plain": [
              "participant_id                0\n",
              "EHQ_EHQ_Total                 0\n",
              "ColorVision_CV_Score          0\n",
              "APQ_P_APQ_P_CP                0\n",
              "APQ_P_APQ_P_ID                0\n",
              "APQ_P_APQ_P_INV               0\n",
              "APQ_P_APQ_P_OPD               0\n",
              "APQ_P_APQ_P_PM                0\n",
              "APQ_P_APQ_P_PP                0\n",
              "SDQ_SDQ_Conduct_Problems      0\n",
              "SDQ_SDQ_Difficulties_Total    0\n",
              "SDQ_SDQ_Emotional_Problems    0\n",
              "SDQ_SDQ_Externalizing         0\n",
              "SDQ_SDQ_Generating_Impact     0\n",
              "SDQ_SDQ_Hyperactivity         0\n",
              "SDQ_SDQ_Internalizing         0\n",
              "SDQ_SDQ_Peer_Problems         0\n",
              "SDQ_SDQ_Prosocial             0\n",
              "MRI_Track_Age_at_Scan         0\n",
              "dtype: int64"
            ],
            "text/html": [
              "<div>\n",
              "<style scoped>\n",
              "    .dataframe tbody tr th:only-of-type {\n",
              "        vertical-align: middle;\n",
              "    }\n",
              "\n",
              "    .dataframe tbody tr th {\n",
              "        vertical-align: top;\n",
              "    }\n",
              "\n",
              "    .dataframe thead th {\n",
              "        text-align: right;\n",
              "    }\n",
              "</style>\n",
              "<table border=\"1\" class=\"dataframe\">\n",
              "  <thead>\n",
              "    <tr style=\"text-align: right;\">\n",
              "      <th></th>\n",
              "      <th>0</th>\n",
              "    </tr>\n",
              "  </thead>\n",
              "  <tbody>\n",
              "    <tr>\n",
              "      <th>participant_id</th>\n",
              "      <td>0</td>\n",
              "    </tr>\n",
              "    <tr>\n",
              "      <th>EHQ_EHQ_Total</th>\n",
              "      <td>0</td>\n",
              "    </tr>\n",
              "    <tr>\n",
              "      <th>ColorVision_CV_Score</th>\n",
              "      <td>0</td>\n",
              "    </tr>\n",
              "    <tr>\n",
              "      <th>APQ_P_APQ_P_CP</th>\n",
              "      <td>0</td>\n",
              "    </tr>\n",
              "    <tr>\n",
              "      <th>APQ_P_APQ_P_ID</th>\n",
              "      <td>0</td>\n",
              "    </tr>\n",
              "    <tr>\n",
              "      <th>APQ_P_APQ_P_INV</th>\n",
              "      <td>0</td>\n",
              "    </tr>\n",
              "    <tr>\n",
              "      <th>APQ_P_APQ_P_OPD</th>\n",
              "      <td>0</td>\n",
              "    </tr>\n",
              "    <tr>\n",
              "      <th>APQ_P_APQ_P_PM</th>\n",
              "      <td>0</td>\n",
              "    </tr>\n",
              "    <tr>\n",
              "      <th>APQ_P_APQ_P_PP</th>\n",
              "      <td>0</td>\n",
              "    </tr>\n",
              "    <tr>\n",
              "      <th>SDQ_SDQ_Conduct_Problems</th>\n",
              "      <td>0</td>\n",
              "    </tr>\n",
              "    <tr>\n",
              "      <th>SDQ_SDQ_Difficulties_Total</th>\n",
              "      <td>0</td>\n",
              "    </tr>\n",
              "    <tr>\n",
              "      <th>SDQ_SDQ_Emotional_Problems</th>\n",
              "      <td>0</td>\n",
              "    </tr>\n",
              "    <tr>\n",
              "      <th>SDQ_SDQ_Externalizing</th>\n",
              "      <td>0</td>\n",
              "    </tr>\n",
              "    <tr>\n",
              "      <th>SDQ_SDQ_Generating_Impact</th>\n",
              "      <td>0</td>\n",
              "    </tr>\n",
              "    <tr>\n",
              "      <th>SDQ_SDQ_Hyperactivity</th>\n",
              "      <td>0</td>\n",
              "    </tr>\n",
              "    <tr>\n",
              "      <th>SDQ_SDQ_Internalizing</th>\n",
              "      <td>0</td>\n",
              "    </tr>\n",
              "    <tr>\n",
              "      <th>SDQ_SDQ_Peer_Problems</th>\n",
              "      <td>0</td>\n",
              "    </tr>\n",
              "    <tr>\n",
              "      <th>SDQ_SDQ_Prosocial</th>\n",
              "      <td>0</td>\n",
              "    </tr>\n",
              "    <tr>\n",
              "      <th>MRI_Track_Age_at_Scan</th>\n",
              "      <td>0</td>\n",
              "    </tr>\n",
              "  </tbody>\n",
              "</table>\n",
              "</div><br><label><b>dtype:</b> int64</label>"
            ]
          },
          "metadata": {},
          "execution_count": 7
        }
      ]
    },
    {
      "cell_type": "code",
      "execution_count": null,
      "metadata": {
        "colab": {
          "base_uri": "https://localhost:8080/",
          "height": 178
        },
        "id": "_ATevkti1Hhp",
        "outputId": "ff970e60-9d2a-4004-8492-296f9e8ea1cb"
      },
      "outputs": [
        {
          "output_type": "execute_result",
          "data": {
            "text/plain": [
              "participant_id    0\n",
              "ADHD_Outcome      0\n",
              "Sex_F             0\n",
              "dtype: int64"
            ],
            "text/html": [
              "<div>\n",
              "<style scoped>\n",
              "    .dataframe tbody tr th:only-of-type {\n",
              "        vertical-align: middle;\n",
              "    }\n",
              "\n",
              "    .dataframe tbody tr th {\n",
              "        vertical-align: top;\n",
              "    }\n",
              "\n",
              "    .dataframe thead th {\n",
              "        text-align: right;\n",
              "    }\n",
              "</style>\n",
              "<table border=\"1\" class=\"dataframe\">\n",
              "  <thead>\n",
              "    <tr style=\"text-align: right;\">\n",
              "      <th></th>\n",
              "      <th>0</th>\n",
              "    </tr>\n",
              "  </thead>\n",
              "  <tbody>\n",
              "    <tr>\n",
              "      <th>participant_id</th>\n",
              "      <td>0</td>\n",
              "    </tr>\n",
              "    <tr>\n",
              "      <th>ADHD_Outcome</th>\n",
              "      <td>0</td>\n",
              "    </tr>\n",
              "    <tr>\n",
              "      <th>Sex_F</th>\n",
              "      <td>0</td>\n",
              "    </tr>\n",
              "  </tbody>\n",
              "</table>\n",
              "</div><br><label><b>dtype:</b> int64</label>"
            ]
          },
          "metadata": {},
          "execution_count": 23
        }
      ],
      "source": [
        "train_answers.isna().sum()"
      ]
    },
    {
      "cell_type": "code",
      "execution_count": null,
      "metadata": {
        "colab": {
          "base_uri": "https://localhost:8080/",
          "height": 300
        },
        "id": "qHpHsAfQyQbQ",
        "outputId": "4e0f49c9-9063-4725-9ba9-5d26ef13ce7e"
      },
      "outputs": [
        {
          "output_type": "execute_result",
          "data": {
            "text/plain": [
              "       ADHD_Outcome        Sex_F\n",
              "count   1213.000000  1213.000000\n",
              "mean       0.685078     0.342951\n",
              "std        0.464676     0.474891\n",
              "min        0.000000     0.000000\n",
              "25%        0.000000     0.000000\n",
              "50%        1.000000     0.000000\n",
              "75%        1.000000     1.000000\n",
              "max        1.000000     1.000000"
            ],
            "text/html": [
              "\n",
              "  <div id=\"df-6caa6a06-23e8-4de8-b0c3-b67a93518178\" class=\"colab-df-container\">\n",
              "    <div>\n",
              "<style scoped>\n",
              "    .dataframe tbody tr th:only-of-type {\n",
              "        vertical-align: middle;\n",
              "    }\n",
              "\n",
              "    .dataframe tbody tr th {\n",
              "        vertical-align: top;\n",
              "    }\n",
              "\n",
              "    .dataframe thead th {\n",
              "        text-align: right;\n",
              "    }\n",
              "</style>\n",
              "<table border=\"1\" class=\"dataframe\">\n",
              "  <thead>\n",
              "    <tr style=\"text-align: right;\">\n",
              "      <th></th>\n",
              "      <th>ADHD_Outcome</th>\n",
              "      <th>Sex_F</th>\n",
              "    </tr>\n",
              "  </thead>\n",
              "  <tbody>\n",
              "    <tr>\n",
              "      <th>count</th>\n",
              "      <td>1213.000000</td>\n",
              "      <td>1213.000000</td>\n",
              "    </tr>\n",
              "    <tr>\n",
              "      <th>mean</th>\n",
              "      <td>0.685078</td>\n",
              "      <td>0.342951</td>\n",
              "    </tr>\n",
              "    <tr>\n",
              "      <th>std</th>\n",
              "      <td>0.464676</td>\n",
              "      <td>0.474891</td>\n",
              "    </tr>\n",
              "    <tr>\n",
              "      <th>min</th>\n",
              "      <td>0.000000</td>\n",
              "      <td>0.000000</td>\n",
              "    </tr>\n",
              "    <tr>\n",
              "      <th>25%</th>\n",
              "      <td>0.000000</td>\n",
              "      <td>0.000000</td>\n",
              "    </tr>\n",
              "    <tr>\n",
              "      <th>50%</th>\n",
              "      <td>1.000000</td>\n",
              "      <td>0.000000</td>\n",
              "    </tr>\n",
              "    <tr>\n",
              "      <th>75%</th>\n",
              "      <td>1.000000</td>\n",
              "      <td>1.000000</td>\n",
              "    </tr>\n",
              "    <tr>\n",
              "      <th>max</th>\n",
              "      <td>1.000000</td>\n",
              "      <td>1.000000</td>\n",
              "    </tr>\n",
              "  </tbody>\n",
              "</table>\n",
              "</div>\n",
              "    <div class=\"colab-df-buttons\">\n",
              "\n",
              "  <div class=\"colab-df-container\">\n",
              "    <button class=\"colab-df-convert\" onclick=\"convertToInteractive('df-6caa6a06-23e8-4de8-b0c3-b67a93518178')\"\n",
              "            title=\"Convert this dataframe to an interactive table.\"\n",
              "            style=\"display:none;\">\n",
              "\n",
              "  <svg xmlns=\"http://www.w3.org/2000/svg\" height=\"24px\" viewBox=\"0 -960 960 960\">\n",
              "    <path d=\"M120-120v-720h720v720H120Zm60-500h600v-160H180v160Zm220 220h160v-160H400v160Zm0 220h160v-160H400v160ZM180-400h160v-160H180v160Zm440 0h160v-160H620v160ZM180-180h160v-160H180v160Zm440 0h160v-160H620v160Z\"/>\n",
              "  </svg>\n",
              "    </button>\n",
              "\n",
              "  <style>\n",
              "    .colab-df-container {\n",
              "      display:flex;\n",
              "      gap: 12px;\n",
              "    }\n",
              "\n",
              "    .colab-df-convert {\n",
              "      background-color: #E8F0FE;\n",
              "      border: none;\n",
              "      border-radius: 50%;\n",
              "      cursor: pointer;\n",
              "      display: none;\n",
              "      fill: #1967D2;\n",
              "      height: 32px;\n",
              "      padding: 0 0 0 0;\n",
              "      width: 32px;\n",
              "    }\n",
              "\n",
              "    .colab-df-convert:hover {\n",
              "      background-color: #E2EBFA;\n",
              "      box-shadow: 0px 1px 2px rgba(60, 64, 67, 0.3), 0px 1px 3px 1px rgba(60, 64, 67, 0.15);\n",
              "      fill: #174EA6;\n",
              "    }\n",
              "\n",
              "    .colab-df-buttons div {\n",
              "      margin-bottom: 4px;\n",
              "    }\n",
              "\n",
              "    [theme=dark] .colab-df-convert {\n",
              "      background-color: #3B4455;\n",
              "      fill: #D2E3FC;\n",
              "    }\n",
              "\n",
              "    [theme=dark] .colab-df-convert:hover {\n",
              "      background-color: #434B5C;\n",
              "      box-shadow: 0px 1px 3px 1px rgba(0, 0, 0, 0.15);\n",
              "      filter: drop-shadow(0px 1px 2px rgba(0, 0, 0, 0.3));\n",
              "      fill: #FFFFFF;\n",
              "    }\n",
              "  </style>\n",
              "\n",
              "    <script>\n",
              "      const buttonEl =\n",
              "        document.querySelector('#df-6caa6a06-23e8-4de8-b0c3-b67a93518178 button.colab-df-convert');\n",
              "      buttonEl.style.display =\n",
              "        google.colab.kernel.accessAllowed ? 'block' : 'none';\n",
              "\n",
              "      async function convertToInteractive(key) {\n",
              "        const element = document.querySelector('#df-6caa6a06-23e8-4de8-b0c3-b67a93518178');\n",
              "        const dataTable =\n",
              "          await google.colab.kernel.invokeFunction('convertToInteractive',\n",
              "                                                    [key], {});\n",
              "        if (!dataTable) return;\n",
              "\n",
              "        const docLinkHtml = 'Like what you see? Visit the ' +\n",
              "          '<a target=\"_blank\" href=https://colab.research.google.com/notebooks/data_table.ipynb>data table notebook</a>'\n",
              "          + ' to learn more about interactive tables.';\n",
              "        element.innerHTML = '';\n",
              "        dataTable['output_type'] = 'display_data';\n",
              "        await google.colab.output.renderOutput(dataTable, element);\n",
              "        const docLink = document.createElement('div');\n",
              "        docLink.innerHTML = docLinkHtml;\n",
              "        element.appendChild(docLink);\n",
              "      }\n",
              "    </script>\n",
              "  </div>\n",
              "\n",
              "\n",
              "<div id=\"df-dbafba06-c3fc-41d3-8399-b582c74b4267\">\n",
              "  <button class=\"colab-df-quickchart\" onclick=\"quickchart('df-dbafba06-c3fc-41d3-8399-b582c74b4267')\"\n",
              "            title=\"Suggest charts\"\n",
              "            style=\"display:none;\">\n",
              "\n",
              "<svg xmlns=\"http://www.w3.org/2000/svg\" height=\"24px\"viewBox=\"0 0 24 24\"\n",
              "     width=\"24px\">\n",
              "    <g>\n",
              "        <path d=\"M19 3H5c-1.1 0-2 .9-2 2v14c0 1.1.9 2 2 2h14c1.1 0 2-.9 2-2V5c0-1.1-.9-2-2-2zM9 17H7v-7h2v7zm4 0h-2V7h2v10zm4 0h-2v-4h2v4z\"/>\n",
              "    </g>\n",
              "</svg>\n",
              "  </button>\n",
              "\n",
              "<style>\n",
              "  .colab-df-quickchart {\n",
              "      --bg-color: #E8F0FE;\n",
              "      --fill-color: #1967D2;\n",
              "      --hover-bg-color: #E2EBFA;\n",
              "      --hover-fill-color: #174EA6;\n",
              "      --disabled-fill-color: #AAA;\n",
              "      --disabled-bg-color: #DDD;\n",
              "  }\n",
              "\n",
              "  [theme=dark] .colab-df-quickchart {\n",
              "      --bg-color: #3B4455;\n",
              "      --fill-color: #D2E3FC;\n",
              "      --hover-bg-color: #434B5C;\n",
              "      --hover-fill-color: #FFFFFF;\n",
              "      --disabled-bg-color: #3B4455;\n",
              "      --disabled-fill-color: #666;\n",
              "  }\n",
              "\n",
              "  .colab-df-quickchart {\n",
              "    background-color: var(--bg-color);\n",
              "    border: none;\n",
              "    border-radius: 50%;\n",
              "    cursor: pointer;\n",
              "    display: none;\n",
              "    fill: var(--fill-color);\n",
              "    height: 32px;\n",
              "    padding: 0;\n",
              "    width: 32px;\n",
              "  }\n",
              "\n",
              "  .colab-df-quickchart:hover {\n",
              "    background-color: var(--hover-bg-color);\n",
              "    box-shadow: 0 1px 2px rgba(60, 64, 67, 0.3), 0 1px 3px 1px rgba(60, 64, 67, 0.15);\n",
              "    fill: var(--button-hover-fill-color);\n",
              "  }\n",
              "\n",
              "  .colab-df-quickchart-complete:disabled,\n",
              "  .colab-df-quickchart-complete:disabled:hover {\n",
              "    background-color: var(--disabled-bg-color);\n",
              "    fill: var(--disabled-fill-color);\n",
              "    box-shadow: none;\n",
              "  }\n",
              "\n",
              "  .colab-df-spinner {\n",
              "    border: 2px solid var(--fill-color);\n",
              "    border-color: transparent;\n",
              "    border-bottom-color: var(--fill-color);\n",
              "    animation:\n",
              "      spin 1s steps(1) infinite;\n",
              "  }\n",
              "\n",
              "  @keyframes spin {\n",
              "    0% {\n",
              "      border-color: transparent;\n",
              "      border-bottom-color: var(--fill-color);\n",
              "      border-left-color: var(--fill-color);\n",
              "    }\n",
              "    20% {\n",
              "      border-color: transparent;\n",
              "      border-left-color: var(--fill-color);\n",
              "      border-top-color: var(--fill-color);\n",
              "    }\n",
              "    30% {\n",
              "      border-color: transparent;\n",
              "      border-left-color: var(--fill-color);\n",
              "      border-top-color: var(--fill-color);\n",
              "      border-right-color: var(--fill-color);\n",
              "    }\n",
              "    40% {\n",
              "      border-color: transparent;\n",
              "      border-right-color: var(--fill-color);\n",
              "      border-top-color: var(--fill-color);\n",
              "    }\n",
              "    60% {\n",
              "      border-color: transparent;\n",
              "      border-right-color: var(--fill-color);\n",
              "    }\n",
              "    80% {\n",
              "      border-color: transparent;\n",
              "      border-right-color: var(--fill-color);\n",
              "      border-bottom-color: var(--fill-color);\n",
              "    }\n",
              "    90% {\n",
              "      border-color: transparent;\n",
              "      border-bottom-color: var(--fill-color);\n",
              "    }\n",
              "  }\n",
              "</style>\n",
              "\n",
              "  <script>\n",
              "    async function quickchart(key) {\n",
              "      const quickchartButtonEl =\n",
              "        document.querySelector('#' + key + ' button');\n",
              "      quickchartButtonEl.disabled = true;  // To prevent multiple clicks.\n",
              "      quickchartButtonEl.classList.add('colab-df-spinner');\n",
              "      try {\n",
              "        const charts = await google.colab.kernel.invokeFunction(\n",
              "            'suggestCharts', [key], {});\n",
              "      } catch (error) {\n",
              "        console.error('Error during call to suggestCharts:', error);\n",
              "      }\n",
              "      quickchartButtonEl.classList.remove('colab-df-spinner');\n",
              "      quickchartButtonEl.classList.add('colab-df-quickchart-complete');\n",
              "    }\n",
              "    (() => {\n",
              "      let quickchartButtonEl =\n",
              "        document.querySelector('#df-dbafba06-c3fc-41d3-8399-b582c74b4267 button');\n",
              "      quickchartButtonEl.style.display =\n",
              "        google.colab.kernel.accessAllowed ? 'block' : 'none';\n",
              "    })();\n",
              "  </script>\n",
              "</div>\n",
              "\n",
              "    </div>\n",
              "  </div>\n"
            ],
            "application/vnd.google.colaboratory.intrinsic+json": {
              "type": "dataframe",
              "summary": "{\n  \"name\": \"train_answers\",\n  \"rows\": 8,\n  \"fields\": [\n    {\n      \"column\": \"ADHD_Outcome\",\n      \"properties\": {\n        \"dtype\": \"number\",\n        \"std\": 428.65087269300534,\n        \"min\": 0.0,\n        \"max\": 1213.0,\n        \"num_unique_values\": 5,\n        \"samples\": [\n          0.685078318219291,\n          1.0,\n          0.4646762576130259\n        ],\n        \"semantic_type\": \"\",\n        \"description\": \"\"\n      }\n    },\n    {\n      \"column\": \"Sex_F\",\n      \"properties\": {\n        \"dtype\": \"number\",\n        \"std\": 428.7181416490957,\n        \"min\": 0.0,\n        \"max\": 1213.0,\n        \"num_unique_values\": 5,\n        \"samples\": [\n          0.34295136026380874,\n          1.0,\n          0.47489119314006784\n        ],\n        \"semantic_type\": \"\",\n        \"description\": \"\"\n      }\n    }\n  ]\n}"
            }
          },
          "metadata": {},
          "execution_count": 24
        }
      ],
      "source": [
        "train_answers.describe()"
      ]
    },
    {
      "cell_type": "markdown",
      "source": [
        "**note: still twice as much men with adhd as women without"
      ],
      "metadata": {
        "id": "gAJFJqLcLH4Q"
      }
    },
    {
      "cell_type": "markdown",
      "metadata": {
        "id": "zisvsT5VG8eD"
      },
      "source": [
        "## Model Set 1: Initial Models\n",
        "\n",
        "Decision Trees, Gradient Boosted Classifiers, and Logistic Regressors are explored. Strategies such as grid search are utilized."
      ]
    },
    {
      "cell_type": "markdown",
      "metadata": {
        "id": "hHDD_itFHlxj"
      },
      "source": [
        "**Sex_F Model Selection**"
      ]
    },
    {
      "cell_type": "code",
      "execution_count": null,
      "metadata": {
        "colab": {
          "base_uri": "https://localhost:8080/"
        },
        "id": "wL217S110N_l",
        "outputId": "268fbee7-44ee-40cf-85b3-7e03c2a98d0d"
      },
      "outputs": [
        {
          "output_type": "stream",
          "name": "stdout",
          "text": [
            "Logistic Regression: Mean Accuracy = 0.6588, Std Dev = 0.0072\n",
            "Decision Tree: Mean Accuracy = 0.5619, Std Dev = 0.0216\n",
            "Gradient Boosting: Mean Accuracy = 0.6062, Std Dev = 0.0082\n",
            "\n",
            "Best Model: Logistic Regression\n",
            "Test Accuracy: 0.7284\n"
          ]
        }
      ],
      "source": [
        "\n",
        "# Combine the quantitative data with the gender labels\n",
        "train_data = pd.merge(train_quantitative, train_answers, on='participant_id')\n",
        "# Separate features (X) and target variable (y)\n",
        "X = train_data.drop(['participant_id', 'Sex_F', 'ADHD_Outcome', 'MRI_Track_Age_at_Scan'], axis=1)\n",
        "y = train_data['Sex_F']\n",
        "# Import necessary libraries for model selection\n",
        "from sklearn.model_selection import train_test_split, cross_val_score\n",
        "from sklearn.preprocessing import StandardScaler\n",
        "from sklearn.linear_model import LogisticRegression\n",
        "from sklearn.neighbors import KNeighborsClassifier\n",
        "from sklearn.svm import SVC\n",
        "from sklearn.tree import DecisionTreeClassifier\n",
        "from sklearn.ensemble import RandomForestClassifier, GradientBoostingClassifier\n",
        "from sklearn.metrics import accuracy_score\n",
        "\n",
        "# Split data into training and testing sets\n",
        "X_train, X_test, y_train, y_test = train_test_split(X, y, test_size=0.2, random_state=42)\n",
        "\n",
        "# Scale numerical features\n",
        "scaler = StandardScaler()\n",
        "X_train = scaler.fit_transform(X_train)\n",
        "X_test = scaler.transform(X_test)\n",
        "\n",
        "# Define models to evaluate\n",
        "models = {\n",
        "    'Logistic Regression': LogisticRegression(),\n",
        "    'Decision Tree': DecisionTreeClassifier(),\n",
        "    # 'Random Forest': RandomForestClassifier(),\n",
        "    'Gradient Boosting': GradientBoostingClassifier()\n",
        "}\n",
        "\n",
        "# Evaluate models using cross-validation\n",
        "results = {}\n",
        "for name, model in models.items():\n",
        "    cv_scores = cross_val_score(model, X_train, y_train, cv=2)  # 5-fold cross-validation\n",
        "    results[name] = {\n",
        "        'mean_accuracy': np.mean(cv_scores),\n",
        "        'std_accuracy': np.std(cv_scores)\n",
        "    }\n",
        "\n",
        "# Print the results\n",
        "for name, result in results.items():\n",
        "    print(f'{name}: Mean Accuracy = {result[\"mean_accuracy\"]:.4f}, Std Dev = {result[\"std_accuracy\"]:.4f}')\n",
        "\n",
        "# Select the best-performing model based on mean accuracy\n",
        "best_model_name = max(results, key=lambda k: results[k]['mean_accuracy'])\n",
        "best_model = models[best_model_name]\n",
        "\n",
        "# Train the best model on the entire training set\n",
        "best_model.fit(X_train, y_train)\n",
        "\n",
        "# Make predictions on the test set\n",
        "y_pred = best_model.predict(X_test)\n",
        "\n",
        "# Evaluate the best model on the test set\n",
        "accuracy = accuracy_score(y_test, y_pred)\n",
        "print(f'\\nBest Model: {best_model_name}')\n",
        "print(f'Test Accuracy: {accuracy:.4f}')\n",
        "\n"
      ]
    },
    {
      "cell_type": "markdown",
      "metadata": {
        "id": "wj3og6P-HuXH"
      },
      "source": [
        "**ADHD_Outcome Model Selection**"
      ]
    },
    {
      "cell_type": "code",
      "execution_count": null,
      "metadata": {
        "colab": {
          "base_uri": "https://localhost:8080/"
        },
        "id": "EMk4_xzh0kMd",
        "outputId": "36b66c91-c037-4493-d2ea-4d0acc85e527"
      },
      "outputs": [
        {
          "output_type": "stream",
          "name": "stdout",
          "text": [
            "Logistic Regression: Mean Accuracy = 0.7876, Std Dev = 0.0082\n",
            "Decision Tree: Mean Accuracy = 0.7021, Std Dev = 0.0175\n",
            "Gradient Boosting: Mean Accuracy = 0.7619, Std Dev = 0.0216\n",
            "\n",
            "Best Model: Logistic Regression\n",
            "Test Accuracy: 0.8066\n",
            "Training Accuracy: 0.8062\n"
          ]
        }
      ],
      "source": [
        "\n",
        "# Combine the quantitative data with the gender labels\n",
        "train_data = pd.merge(train_quantitative, train_answers, on='participant_id')\n",
        "# Separate features (X) and target variable (y)\n",
        "X = train_data.drop(['participant_id', 'Sex_F', 'ADHD_Outcome', 'MRI_Track_Age_at_Scan'], axis=1)\n",
        "y = train_data['ADHD_Outcome']\n",
        "\n",
        "# Split data into training and testing sets\n",
        "X_train, X_test, y_train, y_test = train_test_split(X, y, test_size=0.2, random_state=42)\n",
        "\n",
        "# Scale numerical features\n",
        "scaler = StandardScaler()\n",
        "X_train = scaler.fit_transform(X_train)\n",
        "X_test = scaler.transform(X_test)\n",
        "\n",
        "# Define models to evaluate\n",
        "models = {\n",
        "    'Logistic Regression': LogisticRegression(),\n",
        "    'Decision Tree': DecisionTreeClassifier(),\n",
        "    # 'Random Forest': RandomForestClassifier(),\n",
        "    'Gradient Boosting': GradientBoostingClassifier()\n",
        "}\n",
        "\n",
        "# Evaluate models using cross-validation\n",
        "results = {}\n",
        "for name, model in models.items():\n",
        "    cv_scores = cross_val_score(model, X_train, y_train, cv=2)  # 5-fold cross-validation\n",
        "    results[name] = {\n",
        "        'mean_accuracy': np.mean(cv_scores),\n",
        "        'std_accuracy': np.std(cv_scores)\n",
        "    }\n",
        "\n",
        "# Print the results\n",
        "for name, result in results.items():\n",
        "    print(f'{name}: Mean Accuracy = {result[\"mean_accuracy\"]:.4f}, Std Dev = {result[\"std_accuracy\"]:.4f}')\n",
        "\n",
        "# Select the best-performing model based on mean accuracy\n",
        "best_model_name = max(results, key=lambda k: results[k]['mean_accuracy'])\n",
        "best_model = models[best_model_name]\n",
        "\n",
        "# Train the best model on the entire training set\n",
        "best_model.fit(X_train, y_train)\n",
        "\n",
        "# Make predictions on the test set\n",
        "y_pred = best_model.predict(X_test)\n",
        "\n",
        "# Evaluate the best model on the test set\n",
        "accuracy = accuracy_score(y_test, y_pred)\n",
        "print(f'\\nBest Model: {best_model_name}')\n",
        "print(f'Test Accuracy: {accuracy:.4f}')\n",
        "\n",
        "# Try making predictions on training set to evaluate under/overfit\n",
        "y_pred_training = best_model.predict(X_train)\n",
        "training_accuracy = accuracy_score(y_train, y_pred_training)\n",
        "print(f'Training Accuracy: {training_accuracy:.4f}')\n",
        "\n"
      ]
    },
    {
      "cell_type": "markdown",
      "metadata": {
        "id": "BlZml_fk_TQ-"
      },
      "source": [
        "**Guys logistic regression is kinda goated at ADHD prediction??** ~~~~~"
      ]
    },
    {
      "cell_type": "markdown",
      "metadata": {
        "id": "sDfSQtc8J4DV"
      },
      "source": [
        "<h1> Model Training and Selection </h1>\n",
        "\n",
        "<h2> Plain Decision Trees </h2>\n",
        "overfitting like wild\n",
        "\n",
        "**Sex_F Prediction**"
      ]
    },
    {
      "cell_type": "code",
      "execution_count": null,
      "metadata": {
        "colab": {
          "base_uri": "https://localhost:8080/"
        },
        "id": "u_Auqo85DUfJ",
        "outputId": "9837161e-e90a-42ab-d90f-616aa4f3845b"
      },
      "outputs": [
        {
          "output_type": "stream",
          "name": "stdout",
          "text": [
            "Decision Tree Accuracy: 0.5802\n",
            "Decision Tree Training Accuracy: 1.0000\n"
          ]
        }
      ],
      "source": [
        "# Combine the quantitative data with the gender labels\n",
        "train_data = pd.merge(train_quantitative, train_answers, on='participant_id')\n",
        "\n",
        "# Separate features (X) and target variable (y)\n",
        "X = train_data.drop(['participant_id', 'Sex_F', 'ADHD_Outcome'], axis=1)\n",
        "y = train_data['Sex_F']\n",
        "\n",
        "# Split data into training and testing sets\n",
        "X_train, X_test, y_train, y_test = train_test_split(X, y, test_size=0.2, random_state=42)\n",
        "\n",
        "# Initialize and train the Decision Tree Classifier\n",
        "dt_classifier = DecisionTreeClassifier()\n",
        "dt_classifier.fit(X_train, y_train)\n",
        "\n",
        "# Make predictions on the test set\n",
        "y_pred = dt_classifier.predict(X_test)\n",
        "\n",
        "# Evaluate the model\n",
        "accuracy = accuracy_score(y_test, y_pred)\n",
        "print(f'Decision Tree Accuracy: {accuracy:.4f}')\n",
        "\n",
        "#Training data evaluation\n",
        "train_accurac = accuracy_score(y_train, dt_classifier.predict(X_train))\n",
        "print(f'Decision Tree Training Accuracy: {train_accurac:.4f}')\n"
      ]
    },
    {
      "cell_type": "markdown",
      "metadata": {
        "id": "tvAd7wmaLTLo"
      },
      "source": [
        "**ADHD_Outcome Prediction**"
      ]
    },
    {
      "cell_type": "code",
      "execution_count": null,
      "metadata": {
        "colab": {
          "base_uri": "https://localhost:8080/"
        },
        "id": "9S9hsMe3D61c",
        "outputId": "6fa2b04a-7b2d-4b85-daab-be5c1834f1cd"
      },
      "outputs": [
        {
          "output_type": "stream",
          "name": "stdout",
          "text": [
            "Decision Tree Accuracy: 0.6667\n",
            "Decision Tree Training Accuracy: 1.0000\n"
          ]
        }
      ],
      "source": [
        "# Combine the quantitative data with the ADHD_Outcome labels\n",
        "train_data = pd.merge(train_quantitative, train_answers, on='participant_id')\n",
        "\n",
        "# Separate features (X) and target variable (y)\n",
        "X = train_data.drop(['participant_id', 'Sex_F', 'ADHD_Outcome'], axis=1)\n",
        "y = train_data['ADHD_Outcome']\n",
        "\n",
        "# Split data into training and testing sets\n",
        "X_train, X_test, y_train, y_test = train_test_split(X, y, test_size=0.2, random_state=42)\n",
        "\n",
        "# Initialize and train the Decision Tree Classifier\n",
        "dt_classifier = DecisionTreeClassifier()\n",
        "dt_classifier.fit(X_train, y_train)\n",
        "\n",
        "# Make predictions on the test set\n",
        "y_pred = dt_classifier.predict(X_test)\n",
        "\n",
        "# Evaluate the model\n",
        "accuracy = accuracy_score(y_test, y_pred)\n",
        "print(f'Decision Tree Accuracy: {accuracy:.4f}')\n",
        "\n",
        "#Training data evaluation\n",
        "train_accurac = accuracy_score(y_train, dt_classifier.predict(X_train))\n",
        "print(f'Decision Tree Training Accuracy: {train_accurac:.4f}')\n"
      ]
    },
    {
      "cell_type": "markdown",
      "metadata": {
        "id": "O0PeDwkkKDoS"
      },
      "source": [
        "<h2> Gradient Boosted Decision Trees </h2>\n",
        "\n",
        "**ADHD_Outcome Prediction**"
      ]
    },
    {
      "cell_type": "code",
      "execution_count": null,
      "metadata": {
        "colab": {
          "base_uri": "https://localhost:8080/"
        },
        "id": "49HDJfOUEIKI",
        "outputId": "3ebc03d6-02b3-48dc-fbf7-ddbc4de8018a"
      },
      "outputs": [
        {
          "output_type": "stream",
          "name": "stdout",
          "text": [
            "Gradient Boosting Accuracy: 0.7942\n",
            "Gradient Boosting Training Accuracy: 0.8887\n"
          ]
        }
      ],
      "source": [
        "# Combine the quantitative data with the ADHD_Outcome labels\n",
        "train_data = pd.merge(train_quantitative, train_answers, on='participant_id')\n",
        "\n",
        "# Separate features (X) and target variable (y)\n",
        "X = train_data.drop(['participant_id', 'Sex_F', 'ADHD_Outcome', 'MRI_Track_Age_at_Scan'], axis=1)\n",
        "y = train_data['ADHD_Outcome']\n",
        "\n",
        "# Split data into training and testing sets\n",
        "X_train, X_test, y_train, y_test = train_test_split(X, y, test_size=0.2, random_state=42)\n",
        "\n",
        "# Scale numerical features\n",
        "scaler = StandardScaler()\n",
        "X_train = scaler.fit_transform(X_train)\n",
        "X_test = scaler.transform(X_test)\n",
        "\n",
        "# Initialize and train the Gradient Boosting Classifier\n",
        "gb_classifier = GradientBoostingClassifier(random_state=42) # Added random_state for reproducibility\n",
        "gb_classifier.fit(X_train, y_train)\n",
        "\n",
        "# Make predictions on the test set\n",
        "y_pred = gb_classifier.predict(X_test)\n",
        "\n",
        "# Evaluate the model\n",
        "accuracy = accuracy_score(y_test, y_pred)\n",
        "print(f'Gradient Boosting Accuracy: {accuracy:.4f}')\n",
        "\n",
        "#Training data evaluation\n",
        "train_accurac = accuracy_score(y_train, gb_classifier.predict(X_train))\n",
        "print(f'Gradient Boosting Training Accuracy: {train_accurac:.4f}')\n"
      ]
    },
    {
      "cell_type": "markdown",
      "metadata": {
        "id": "U1IFhIGFY9Os"
      },
      "source": [
        "<h2> Grid Search GB DTs </h2>\n",
        "\n",
        "**ADHD_Outcome**"
      ]
    },
    {
      "cell_type": "code",
      "execution_count": null,
      "metadata": {
        "colab": {
          "base_uri": "https://localhost:8080/"
        },
        "id": "Lw4YkiDOi-aN",
        "outputId": "945b0458-2463-44f9-b8cc-acfca43d5f8e"
      },
      "outputs": [
        {
          "output_type": "stream",
          "name": "stdout",
          "text": [
            "Fitting 3 folds for each of 108 candidates, totalling 324 fits\n",
            "Best parameters: {'learning_rate': 0.05, 'max_depth': 3, 'min_samples_leaf': 2, 'min_samples_split': 2, 'n_estimators': 100}\n",
            "Validation accuracy: 0.8577319587628865\n",
            "Test accuracy: 0.7860082304526749\n"
          ]
        }
      ],
      "source": [
        "from sklearn.model_selection import train_test_split, cross_val_score\n",
        "from sklearn.preprocessing import StandardScaler\n",
        "from sklearn.linear_model import LogisticRegression\n",
        "from sklearn.neighbors import KNeighborsClassifier\n",
        "from sklearn.svm import SVC\n",
        "from sklearn.tree import DecisionTreeClassifier\n",
        "from sklearn.ensemble import RandomForestClassifier, GradientBoostingClassifier\n",
        "from sklearn.metrics import accuracy_score\n",
        "from sklearn.model_selection import GridSearchCV\n",
        "\n",
        "# Combine the quantitative data with the ADHD_Outcome labels\n",
        "train_data = pd.merge(train_quantitative, train_answers, on='participant_id')\n",
        "\n",
        "# Separate features (X) and target variable (y)\n",
        "X = train_data.drop(['participant_id', 'Sex_F', 'ADHD_Outcome', 'MRI_Track_Age_at_Scan'], axis=1)\n",
        "y = train_data['ADHD_Outcome']\n",
        "\n",
        "# Split data into training and testing sets\n",
        "X_train, X_test, y_train, y_test = train_test_split(X, y, test_size=0.2, random_state=42)\n",
        "\n",
        "# Scale numerical features\n",
        "scaler = StandardScaler()\n",
        "X_train = scaler.fit_transform(X_train)\n",
        "X_test = scaler.transform(X_test)\n",
        "\n",
        "# Initialize and train the Gradient Boosting Classifier\n",
        "gb_classifier = GradientBoostingClassifier(random_state=42) # Added random_state for reproducibility\n",
        "\n",
        "# Make paramter grid of values to test each model on\n",
        "param_grid = {\n",
        "    'learning_rate': [0.01, 0.05, 0.1],\n",
        "    'n_estimators': [100, 200, 500],\n",
        "    'max_depth': [3, 5, 7],\n",
        "    'min_samples_split': [2, 5],\n",
        "    'min_samples_leaf': [1, 2]\n",
        "}\n",
        "\n",
        "# Perform grid search\n",
        "grid_search = GridSearchCV(\n",
        "    estimator=gb_classifier,\n",
        "    param_grid=param_grid,\n",
        "    scoring='accuracy',\n",
        "    cv=3,\n",
        "    verbose=1,\n",
        "    n_jobs=-1\n",
        ")\n",
        "\n",
        "# Fit the grid search to the data\n",
        "grid_search.fit(X_train, y_train)\n",
        "\n",
        "# Print the best parameters\n",
        "print(f\"Best parameters: {grid_search.best_params_}\")\n",
        "\n",
        "# Eval mbest model\n",
        "best_adhd_model = grid_search.best_estimator_\n",
        "y_pred = best_adhd_model.predict(X_train)\n",
        "print(f\"Validation accuracy: {accuracy_score(y_train, y_pred)}\")\n",
        "y_pred = best_adhd_model.predict(X_test)\n",
        "print(f\"Test accuracy: {accuracy_score(y_test, y_pred)}\")"
      ]
    },
    {
      "cell_type": "markdown",
      "metadata": {
        "id": "nzrmLA2NmMAt"
      },
      "source": [
        "**Sex_F Prediction**"
      ]
    },
    {
      "cell_type": "code",
      "execution_count": null,
      "metadata": {
        "colab": {
          "base_uri": "https://localhost:8080/"
        },
        "id": "4m_kxNNTmGxQ",
        "outputId": "3039b6f7-6537-43e7-914e-814763b70a7f"
      },
      "outputs": [
        {
          "output_type": "stream",
          "name": "stdout",
          "text": [
            "Fitting 3 folds for each of 108 candidates, totalling 324 fits\n",
            "Best parameters: {'learning_rate': 0.05, 'max_depth': 5, 'min_samples_leaf': 2, 'min_samples_split': 2, 'n_estimators': 100}\n",
            "Validation accuracy: 0.8865979381443299\n",
            "Test accuracy: 0.7119341563786008\n"
          ]
        }
      ],
      "source": [
        "from sklearn.model_selection import train_test_split, cross_val_score\n",
        "from sklearn.preprocessing import StandardScaler\n",
        "from sklearn.linear_model import LogisticRegression\n",
        "from sklearn.neighbors import KNeighborsClassifier\n",
        "from sklearn.svm import SVC\n",
        "from sklearn.tree import DecisionTreeClassifier\n",
        "from sklearn.ensemble import RandomForestClassifier, GradientBoostingClassifier\n",
        "from sklearn.metrics import accuracy_score\n",
        "from sklearn.model_selection import GridSearchCV\n",
        "\n",
        "# Combine the quantitative data with the ADHD_Outcome labels\n",
        "train_data = pd.merge(train_quantitative, train_answers, on='participant_id')\n",
        "\n",
        "# Separate features (X) and target variable (y)\n",
        "X = train_data.drop(['participant_id', 'Sex_F', 'ADHD_Outcome', 'MRI_Track_Age_at_Scan'], axis=1)\n",
        "y = train_data['Sex_F']\n",
        "\n",
        "# Split data into training and testing sets\n",
        "X_train, X_test, y_train, y_test = train_test_split(X, y, test_size=0.2, random_state=42)\n",
        "\n",
        "# Scale numerical features\n",
        "scaler2 = StandardScaler()\n",
        "X_train = scaler2.fit_transform(X_train)\n",
        "X_test = scaler2.transform(X_test)\n",
        "\n",
        "# Initialize and train the Gradient Boosting Classifier\n",
        "gb_classifier = GradientBoostingClassifier(random_state=42) # Added random_state for reproducibility\n",
        "\n",
        "# Make paramter grid of values to test each model on\n",
        "param_grid = {\n",
        "    'learning_rate': [0.01, 0.05, 0.1],\n",
        "    'n_estimators': [100, 200, 500],\n",
        "    'max_depth': [3, 5, 7],\n",
        "    'min_samples_split': [2, 5],\n",
        "    'min_samples_leaf': [1, 2]\n",
        "}\n",
        "\n",
        "# Perform grid search\n",
        "grid_search = GridSearchCV(\n",
        "    estimator=gb_classifier,\n",
        "    param_grid=param_grid,\n",
        "    scoring='accuracy',\n",
        "    cv=3,\n",
        "    verbose=1,\n",
        "    n_jobs=-1\n",
        ")\n",
        "\n",
        "# Fit the grid search to the data\n",
        "grid_search.fit(X_train, y_train)\n",
        "\n",
        "# Print the best parameters\n",
        "print(f\"Best parameters: {grid_search.best_params_}\")\n",
        "\n",
        "# Eval mbest model\n",
        "best_female_model = grid_search.best_estimator_\n",
        "y_pred = best_female_model.predict(X_train)\n",
        "print(f\"Validation accuracy: {accuracy_score(y_train, y_pred)}\")\n",
        "y_pred = best_female_model.predict(X_test)\n",
        "print(f\"Test accuracy: {accuracy_score(y_test, y_pred)}\")"
      ]
    },
    {
      "cell_type": "markdown",
      "metadata": {
        "id": "HE3H2jH9-cvs"
      },
      "source": [
        "## Model Set 2: Optuna Fine-Tuning\n",
        "\n",
        "Performance hovers around 0.72 accuracy. Also attempted optimizing on F1 score with 2x weight on Female ADHD examples, resulting in 0.8 and 0.5 F1 on ADHD and sex predictions, respectively."
      ]
    },
    {
      "cell_type": "code",
      "execution_count": null,
      "metadata": {
        "colab": {
          "base_uri": "https://localhost:8080/"
        },
        "id": "rQeti3vi-gmq",
        "outputId": "2d58cf76-2ff4-4394-8cc4-962fc9655da8"
      },
      "outputs": [
        {
          "name": "stdout",
          "output_type": "stream",
          "text": [
            "Collecting optuna\n",
            "  Downloading optuna-4.2.1-py3-none-any.whl.metadata (17 kB)\n",
            "Collecting alembic>=1.5.0 (from optuna)\n",
            "  Downloading alembic-1.14.1-py3-none-any.whl.metadata (7.4 kB)\n",
            "Collecting colorlog (from optuna)\n",
            "  Downloading colorlog-6.9.0-py3-none-any.whl.metadata (10 kB)\n",
            "Requirement already satisfied: numpy in /usr/local/lib/python3.11/dist-packages (from optuna) (1.26.4)\n",
            "Requirement already satisfied: packaging>=20.0 in /usr/local/lib/python3.11/dist-packages (from optuna) (24.2)\n",
            "Requirement already satisfied: sqlalchemy>=1.4.2 in /usr/local/lib/python3.11/dist-packages (from optuna) (2.0.38)\n",
            "Requirement already satisfied: tqdm in /usr/local/lib/python3.11/dist-packages (from optuna) (4.67.1)\n",
            "Requirement already satisfied: PyYAML in /usr/local/lib/python3.11/dist-packages (from optuna) (6.0.2)\n",
            "Collecting Mako (from alembic>=1.5.0->optuna)\n",
            "  Downloading Mako-1.3.9-py3-none-any.whl.metadata (2.9 kB)\n",
            "Requirement already satisfied: typing-extensions>=4 in /usr/local/lib/python3.11/dist-packages (from alembic>=1.5.0->optuna) (4.12.2)\n",
            "Requirement already satisfied: greenlet!=0.4.17 in /usr/local/lib/python3.11/dist-packages (from sqlalchemy>=1.4.2->optuna) (3.1.1)\n",
            "Requirement already satisfied: MarkupSafe>=0.9.2 in /usr/local/lib/python3.11/dist-packages (from Mako->alembic>=1.5.0->optuna) (3.0.2)\n",
            "Downloading optuna-4.2.1-py3-none-any.whl (383 kB)\n",
            "\u001b[2K   \u001b[90m━━━━━━━━━━━━━━━━━━━━━━━━━━━━━━━━━━━━━━━━\u001b[0m \u001b[32m383.6/383.6 kB\u001b[0m \u001b[31m15.1 MB/s\u001b[0m eta \u001b[36m0:00:00\u001b[0m\n",
            "\u001b[?25hDownloading alembic-1.14.1-py3-none-any.whl (233 kB)\n",
            "\u001b[2K   \u001b[90m━━━━━━━━━━━━━━━━━━━━━━━━━━━━━━━━━━━━━━━━\u001b[0m \u001b[32m233.6/233.6 kB\u001b[0m \u001b[31m15.9 MB/s\u001b[0m eta \u001b[36m0:00:00\u001b[0m\n",
            "\u001b[?25hDownloading colorlog-6.9.0-py3-none-any.whl (11 kB)\n",
            "Downloading Mako-1.3.9-py3-none-any.whl (78 kB)\n",
            "\u001b[2K   \u001b[90m━━━━━━━━━━━━━━━━━━━━━━━━━━━━━━━━━━━━━━━━\u001b[0m \u001b[32m78.5/78.5 kB\u001b[0m \u001b[31m5.6 MB/s\u001b[0m eta \u001b[36m0:00:00\u001b[0m\n",
            "\u001b[?25hInstalling collected packages: Mako, colorlog, alembic, optuna\n",
            "Successfully installed Mako-1.3.9 alembic-1.14.1 colorlog-6.9.0 optuna-4.2.1\n"
          ]
        }
      ],
      "source": [
        "pip install optuna"
      ]
    },
    {
      "cell_type": "markdown",
      "metadata": {
        "id": "7gGd2_hyCY6r"
      },
      "source": [
        "**ADHD**"
      ]
    },
    {
      "cell_type": "code",
      "execution_count": null,
      "metadata": {
        "colab": {
          "base_uri": "https://localhost:8080/"
        },
        "id": "OtNjdpe2CQ8A",
        "outputId": "918d3e53-07db-4223-db1c-72c3a98c97bd"
      },
      "outputs": [
        {
          "name": "stderr",
          "output_type": "stream",
          "text": [
            "[I 2025-02-22 19:01:58,857] A new study created in memory with name: no-name-dbe77d7c-366f-430a-b49f-751b6750ad27\n",
            "[I 2025-02-22 19:02:01,093] Trial 0 finished with value: 0.2304526748971193 and parameters: {'n_estimators': 200, 'learning_rate': 0.02342261410642195, 'max_depth': 6}. Best is trial 0 with value: 0.2304526748971193.\n",
            "[I 2025-02-22 19:02:01,770] Trial 1 finished with value: 0.2592592592592593 and parameters: {'n_estimators': 150, 'learning_rate': 0.05474337414256585, 'max_depth': 7}. Best is trial 0 with value: 0.2304526748971193.\n",
            "[I 2025-02-22 19:02:02,128] Trial 2 finished with value: 0.23868312757201648 and parameters: {'n_estimators': 250, 'learning_rate': 0.15547031169924483, 'max_depth': 4}. Best is trial 0 with value: 0.2304526748971193.\n",
            "[I 2025-02-22 19:02:05,216] Trial 3 finished with value: 0.2510288065843621 and parameters: {'n_estimators': 200, 'learning_rate': 0.014941930423102663, 'max_depth': 7}. Best is trial 0 with value: 0.2304526748971193.\n",
            "[I 2025-02-22 19:02:05,629] Trial 4 finished with value: 0.23868312757201648 and parameters: {'n_estimators': 50, 'learning_rate': 0.12495605627872679, 'max_depth': 3}. Best is trial 0 with value: 0.2304526748971193.\n",
            "[I 2025-02-22 19:02:06,111] Trial 5 finished with value: 0.24279835390946503 and parameters: {'n_estimators': 50, 'learning_rate': 0.1691961858818428, 'max_depth': 5}. Best is trial 0 with value: 0.2304526748971193.\n",
            "[I 2025-02-22 19:02:07,119] Trial 6 finished with value: 0.23868312757201648 and parameters: {'n_estimators': 200, 'learning_rate': 0.054613832875380894, 'max_depth': 6}. Best is trial 0 with value: 0.2304526748971193.\n",
            "[I 2025-02-22 19:02:07,470] Trial 7 finished with value: 0.279835390946502 and parameters: {'n_estimators': 250, 'learning_rate': 0.1957196355299858, 'max_depth': 7}. Best is trial 0 with value: 0.2304526748971193.\n",
            "[I 2025-02-22 19:02:09,568] Trial 8 finished with value: 0.23456790123456794 and parameters: {'n_estimators': 150, 'learning_rate': 0.027120937804839013, 'max_depth': 6}. Best is trial 0 with value: 0.2304526748971193.\n",
            "[I 2025-02-22 19:02:09,826] Trial 9 finished with value: 0.2716049382716049 and parameters: {'n_estimators': 250, 'learning_rate': 0.19694148394592276, 'max_depth': 7}. Best is trial 0 with value: 0.2304526748971193.\n",
            "[I 2025-02-22 19:02:10,235] Trial 10 finished with value: 0.24279835390946503 and parameters: {'n_estimators': 100, 'learning_rate': 0.08951671121839004, 'max_depth': 5}. Best is trial 0 with value: 0.2304526748971193.\n",
            "[I 2025-02-22 19:02:11,694] Trial 11 finished with value: 0.23868312757201648 and parameters: {'n_estimators': 150, 'learning_rate': 0.016000226541460313, 'max_depth': 6}. Best is trial 0 with value: 0.2304526748971193.\n",
            "[I 2025-02-22 19:02:12,058] Trial 12 finished with value: 0.23868312757201648 and parameters: {'n_estimators': 200, 'learning_rate': 0.0517773128280264, 'max_depth': 6}. Best is trial 0 with value: 0.2304526748971193.\n",
            "[I 2025-02-22 19:02:12,299] Trial 13 finished with value: 0.2592592592592593 and parameters: {'n_estimators': 100, 'learning_rate': 0.08140011417391084, 'max_depth': 6}. Best is trial 0 with value: 0.2304526748971193.\n",
            "[I 2025-02-22 19:02:12,733] Trial 14 finished with value: 0.2222222222222222 and parameters: {'n_estimators': 150, 'learning_rate': 0.03159362274933013, 'max_depth': 4}. Best is trial 14 with value: 0.2222222222222222.\n",
            "[I 2025-02-22 19:02:13,089] Trial 15 finished with value: 0.22633744855967075 and parameters: {'n_estimators': 200, 'learning_rate': 0.036065490076951666, 'max_depth': 4}. Best is trial 14 with value: 0.2222222222222222.\n",
            "[I 2025-02-22 19:02:13,217] Trial 16 finished with value: 0.23868312757201648 and parameters: {'n_estimators': 100, 'learning_rate': 0.11492622603073055, 'max_depth': 3}. Best is trial 14 with value: 0.2222222222222222.\n",
            "[I 2025-02-22 19:02:13,448] Trial 17 finished with value: 0.22633744855967075 and parameters: {'n_estimators': 150, 'learning_rate': 0.04597593354274753, 'max_depth': 4}. Best is trial 14 with value: 0.2222222222222222.\n",
            "[I 2025-02-22 19:02:13,645] Trial 18 finished with value: 0.22633744855967075 and parameters: {'n_estimators': 200, 'learning_rate': 0.07329636321089122, 'max_depth': 4}. Best is trial 14 with value: 0.2222222222222222.\n",
            "[I 2025-02-22 19:02:13,992] Trial 19 finished with value: 0.24279835390946503 and parameters: {'n_estimators': 100, 'learning_rate': 0.03701110070347512, 'max_depth': 5}. Best is trial 14 with value: 0.2222222222222222.\n",
            "[I 2025-02-22 19:02:14,160] Trial 20 finished with value: 0.2222222222222222 and parameters: {'n_estimators': 200, 'learning_rate': 0.09921156089762817, 'max_depth': 4}. Best is trial 14 with value: 0.2222222222222222.\n",
            "[I 2025-02-22 19:02:14,279] Trial 21 finished with value: 0.23868312757201648 and parameters: {'n_estimators': 200, 'learning_rate': 0.13694170468149455, 'max_depth': 4}. Best is trial 14 with value: 0.2222222222222222.\n",
            "[I 2025-02-22 19:02:14,396] Trial 22 finished with value: 0.22633744855967075 and parameters: {'n_estimators': 150, 'learning_rate': 0.09647578977408237, 'max_depth': 3}. Best is trial 14 with value: 0.2222222222222222.\n",
            "[I 2025-02-22 19:02:14,638] Trial 23 finished with value: 0.2304526748971193 and parameters: {'n_estimators': 250, 'learning_rate': 0.06913602840843293, 'max_depth': 4}. Best is trial 14 with value: 0.2222222222222222.\n",
            "[I 2025-02-22 19:02:14,866] Trial 24 finished with value: 0.24691358024691357 and parameters: {'n_estimators': 150, 'learning_rate': 0.06474506403412118, 'max_depth': 5}. Best is trial 14 with value: 0.2222222222222222.\n",
            "[I 2025-02-22 19:02:15,207] Trial 25 finished with value: 0.2304526748971193 and parameters: {'n_estimators': 200, 'learning_rate': 0.03492273830682106, 'max_depth': 4}. Best is trial 14 with value: 0.2222222222222222.\n",
            "[I 2025-02-22 19:02:15,323] Trial 26 finished with value: 0.2222222222222222 and parameters: {'n_estimators': 200, 'learning_rate': 0.10642902819600385, 'max_depth': 3}. Best is trial 14 with value: 0.2222222222222222.\n",
            "[I 2025-02-22 19:02:15,454] Trial 27 finished with value: 0.21399176954732513 and parameters: {'n_estimators': 150, 'learning_rate': 0.10213679728454578, 'max_depth': 3}. Best is trial 27 with value: 0.21399176954732513.\n",
            "[I 2025-02-22 19:02:15,552] Trial 28 finished with value: 0.2098765432098766 and parameters: {'n_estimators': 150, 'learning_rate': 0.14001929831168258, 'max_depth': 3}. Best is trial 28 with value: 0.2098765432098766.\n",
            "[I 2025-02-22 19:02:15,654] Trial 29 finished with value: 0.22633744855967075 and parameters: {'n_estimators': 100, 'learning_rate': 0.14444720110650383, 'max_depth': 3}. Best is trial 28 with value: 0.2098765432098766.\n",
            "[I 2025-02-22 19:02:15,752] Trial 30 finished with value: 0.2304526748971193 and parameters: {'n_estimators': 150, 'learning_rate': 0.16751263919502052, 'max_depth': 3}. Best is trial 28 with value: 0.2098765432098766.\n",
            "[I 2025-02-22 19:02:15,870] Trial 31 finished with value: 0.23868312757201648 and parameters: {'n_estimators': 150, 'learning_rate': 0.12484977556131545, 'max_depth': 3}. Best is trial 28 with value: 0.2098765432098766.\n",
            "[I 2025-02-22 19:02:15,999] Trial 32 finished with value: 0.22633744855967075 and parameters: {'n_estimators': 150, 'learning_rate': 0.10349038415653272, 'max_depth': 3}. Best is trial 28 with value: 0.2098765432098766.\n",
            "[I 2025-02-22 19:02:16,157] Trial 33 finished with value: 0.21810699588477367 and parameters: {'n_estimators': 100, 'learning_rate': 0.11911305800761307, 'max_depth': 4}. Best is trial 28 with value: 0.2098765432098766.\n",
            "[I 2025-02-22 19:02:16,259] Trial 34 finished with value: 0.2304526748971193 and parameters: {'n_estimators': 100, 'learning_rate': 0.15115875167791432, 'max_depth': 4}. Best is trial 28 with value: 0.2098765432098766.\n",
            "[I 2025-02-22 19:02:16,370] Trial 35 finished with value: 0.21810699588477367 and parameters: {'n_estimators': 50, 'learning_rate': 0.12848956736150122, 'max_depth': 3}. Best is trial 28 with value: 0.2098765432098766.\n",
            "[I 2025-02-22 19:02:16,487] Trial 36 finished with value: 0.21399176954732513 and parameters: {'n_estimators': 50, 'learning_rate': 0.1346025910543633, 'max_depth': 3}. Best is trial 28 with value: 0.2098765432098766.\n",
            "[I 2025-02-22 19:02:16,594] Trial 37 finished with value: 0.2222222222222222 and parameters: {'n_estimators': 50, 'learning_rate': 0.16540997384679546, 'max_depth': 3}. Best is trial 28 with value: 0.2098765432098766.\n",
            "[I 2025-02-22 19:02:16,713] Trial 38 finished with value: 0.22633744855967075 and parameters: {'n_estimators': 50, 'learning_rate': 0.11397426207690971, 'max_depth': 3}. Best is trial 28 with value: 0.2098765432098766.\n",
            "[I 2025-02-22 19:02:16,805] Trial 39 finished with value: 0.21810699588477367 and parameters: {'n_estimators': 50, 'learning_rate': 0.1335802366415521, 'max_depth': 3}. Best is trial 28 with value: 0.2098765432098766.\n",
            "[I 2025-02-22 19:02:16,904] Trial 40 finished with value: 0.21810699588477367 and parameters: {'n_estimators': 100, 'learning_rate': 0.1866663175381984, 'max_depth': 3}. Best is trial 28 with value: 0.2098765432098766.\n",
            "[I 2025-02-22 19:02:17,026] Trial 41 finished with value: 0.2222222222222222 and parameters: {'n_estimators': 50, 'learning_rate': 0.12249824159428406, 'max_depth': 3}. Best is trial 28 with value: 0.2098765432098766.\n",
            "[I 2025-02-22 19:02:17,143] Trial 42 finished with value: 0.22633744855967075 and parameters: {'n_estimators': 50, 'learning_rate': 0.13799893441283048, 'max_depth': 3}. Best is trial 28 with value: 0.2098765432098766.\n",
            "[I 2025-02-22 19:02:17,245] Trial 43 finished with value: 0.2098765432098766 and parameters: {'n_estimators': 50, 'learning_rate': 0.15560387730043207, 'max_depth': 3}. Best is trial 28 with value: 0.2098765432098766.\n",
            "[I 2025-02-22 19:02:17,363] Trial 44 finished with value: 0.2304526748971193 and parameters: {'n_estimators': 100, 'learning_rate': 0.15443162908625976, 'max_depth': 3}. Best is trial 28 with value: 0.2098765432098766.\n",
            "[I 2025-02-22 19:02:17,438] Trial 45 finished with value: 0.23456790123456794 and parameters: {'n_estimators': 50, 'learning_rate': 0.18370549565082775, 'max_depth': 4}. Best is trial 28 with value: 0.2098765432098766.\n",
            "[I 2025-02-22 19:02:17,546] Trial 46 finished with value: 0.2222222222222222 and parameters: {'n_estimators': 100, 'learning_rate': 0.11558313088277822, 'max_depth': 3}. Best is trial 28 with value: 0.2098765432098766.\n",
            "[I 2025-02-22 19:02:17,661] Trial 47 finished with value: 0.22633744855967075 and parameters: {'n_estimators': 50, 'learning_rate': 0.1459325084910452, 'max_depth': 4}. Best is trial 28 with value: 0.2098765432098766.\n",
            "[I 2025-02-22 19:02:17,781] Trial 48 finished with value: 0.22633744855967075 and parameters: {'n_estimators': 100, 'learning_rate': 0.16004739735042905, 'max_depth': 5}. Best is trial 28 with value: 0.2098765432098766.\n",
            "[I 2025-02-22 19:02:17,879] Trial 49 finished with value: 0.21810699588477367 and parameters: {'n_estimators': 50, 'learning_rate': 0.14545546574024162, 'max_depth': 3}. Best is trial 28 with value: 0.2098765432098766.\n"
          ]
        },
        {
          "name": "stdout",
          "output_type": "stream",
          "text": [
            "Best Model Accuracy (Optuna): 0.7901234567901234\n"
          ]
        }
      ],
      "source": [
        "# most code from geeks for geeks\n",
        "import optuna\n",
        "from sklearn.ensemble import GradientBoostingClassifier\n",
        "from sklearn.model_selection import train_test_split\n",
        "from sklearn.metrics import accuracy_score\n",
        "from sklearn.preprocessing import StandardScaler\n",
        "\n",
        "\n",
        "# this code is taken from above ################\n",
        "# Combine the quantitative data with the ADHD_Outcome labels\n",
        "train_data = pd.merge(train_quantitative, train_answers, on='participant_id')\n",
        "\n",
        "# Separate features (X) and target variable (y)\n",
        "X = train_data.drop(['participant_id', 'Sex_F', 'ADHD_Outcome', 'MRI_Track_Age_at_Scan'], axis=1)\n",
        "y = train_data['ADHD_Outcome']\n",
        "\n",
        "# Split data into training and testing sets\n",
        "X_train, X_test, y_train, y_test = train_test_split(X, y, test_size=0.2, random_state=42)\n",
        "\n",
        "# Scale numerical features\n",
        "scaler = StandardScaler()\n",
        "X_train = scaler.fit_transform(X_train)\n",
        "X_test = scaler.transform(X_test)\n",
        "###################################################\n",
        "\n",
        "def objective(trial):\n",
        "    param_space = {\n",
        "        'n_estimators': trial.suggest_int('n_estimators', 50, 250, step=50),\n",
        "        'learning_rate': trial.suggest_float('learning_rate', 0.01, 0.2),\n",
        "        'max_depth': trial.suggest_int('max_depth', 3, 7),\n",
        "    }\n",
        "\n",
        "    gb_model = GradientBoostingClassifier(**param_space, validation_fraction=0.1, n_iter_no_change=5, random_state=42)\n",
        "\n",
        "    gb_model.fit(X_train, y_train)\n",
        "\n",
        "    y_pred = gb_model.predict(X_test)\n",
        "\n",
        "    accuracy = accuracy_score(y_test, y_pred)\n",
        "\n",
        "    return 1.0 - accuracy\n",
        "\n",
        "study = optuna.create_study(direction='minimize')\n",
        "study.optimize(objective, n_trials=50)\n",
        "\n",
        "best_params_optuna = study.best_params\n",
        "best_model_optuna = GradientBoostingClassifier(**best_params_optuna, validation_fraction=0.1, n_iter_no_change=5, random_state=42)\n",
        "best_model_optuna.fit(X_train, y_train)\n",
        "\n",
        "y_pred_best_optuna = best_model_optuna.predict(X_test)\n",
        "\n",
        "accuracy_best_optuna = accuracy_score(y_test, y_pred_best_optuna)\n",
        "\n",
        "print(f\"Best Model Accuracy (Optuna): {accuracy_best_optuna}\")\n"
      ]
    },
    {
      "cell_type": "markdown",
      "metadata": {
        "id": "RcVpYh2ZCN5s"
      },
      "source": [
        "**Sex_F**"
      ]
    },
    {
      "cell_type": "code",
      "execution_count": null,
      "metadata": {
        "colab": {
          "base_uri": "https://localhost:8080/"
        },
        "id": "3SUMBtlH_y5j",
        "outputId": "21c38d2e-0ce2-4bb4-e836-febf67d92063"
      },
      "outputs": [
        {
          "name": "stderr",
          "output_type": "stream",
          "text": [
            "[I 2025-02-22 18:58:40,248] A new study created in memory with name: no-name-0baadd43-e8f0-4432-99b7-638cbd0f5162\n",
            "[I 2025-02-22 18:58:40,396] Trial 0 finished with value: 0.2880658436213992 and parameters: {'n_estimators': 150, 'learning_rate': 0.053270920378659346, 'max_depth': 3}. Best is trial 0 with value: 0.2880658436213992.\n",
            "[I 2025-02-22 18:58:40,875] Trial 1 finished with value: 0.2962962962962963 and parameters: {'n_estimators': 50, 'learning_rate': 0.092242320408569, 'max_depth': 6}. Best is trial 0 with value: 0.2880658436213992.\n",
            "[I 2025-02-22 18:58:41,223] Trial 2 finished with value: 0.3004115226337448 and parameters: {'n_estimators': 250, 'learning_rate': 0.07322007053579085, 'max_depth': 6}. Best is trial 0 with value: 0.2880658436213992.\n",
            "[I 2025-02-22 18:58:41,503] Trial 3 finished with value: 0.279835390946502 and parameters: {'n_estimators': 150, 'learning_rate': 0.03547025877387762, 'max_depth': 5}. Best is trial 3 with value: 0.279835390946502.\n",
            "[I 2025-02-22 18:58:41,624] Trial 4 finished with value: 0.2962962962962963 and parameters: {'n_estimators': 100, 'learning_rate': 0.13349222726958515, 'max_depth': 6}. Best is trial 3 with value: 0.279835390946502.\n",
            "[I 2025-02-22 18:58:41,703] Trial 5 finished with value: 0.31275720164609055 and parameters: {'n_estimators': 50, 'learning_rate': 0.12207044209875607, 'max_depth': 7}. Best is trial 3 with value: 0.279835390946502.\n",
            "[I 2025-02-22 18:58:41,820] Trial 6 finished with value: 0.2962962962962963 and parameters: {'n_estimators': 100, 'learning_rate': 0.0743103309564163, 'max_depth': 6}. Best is trial 3 with value: 0.279835390946502.\n",
            "[I 2025-02-22 18:58:41,893] Trial 7 finished with value: 0.3251028806584362 and parameters: {'n_estimators': 150, 'learning_rate': 0.18962174897125073, 'max_depth': 6}. Best is trial 3 with value: 0.279835390946502.\n",
            "[I 2025-02-22 18:58:41,966] Trial 8 finished with value: 0.31275720164609055 and parameters: {'n_estimators': 250, 'learning_rate': 0.16000985165351858, 'max_depth': 6}. Best is trial 3 with value: 0.279835390946502.\n",
            "[I 2025-02-22 18:58:42,045] Trial 9 finished with value: 0.3168724279835391 and parameters: {'n_estimators': 150, 'learning_rate': 0.1742294373215521, 'max_depth': 7}. Best is trial 3 with value: 0.279835390946502.\n",
            "[I 2025-02-22 18:58:42,197] Trial 10 finished with value: 0.2962962962962963 and parameters: {'n_estimators': 200, 'learning_rate': 0.014884569784366638, 'max_depth': 4}. Best is trial 3 with value: 0.279835390946502.\n",
            "[I 2025-02-22 18:58:42,385] Trial 11 finished with value: 0.3004115226337448 and parameters: {'n_estimators': 200, 'learning_rate': 0.02269010898776043, 'max_depth': 3}. Best is trial 3 with value: 0.279835390946502.\n",
            "[I 2025-02-22 18:58:42,544] Trial 12 finished with value: 0.30452674897119336 and parameters: {'n_estimators': 100, 'learning_rate': 0.04334548747632426, 'max_depth': 3}. Best is trial 3 with value: 0.279835390946502.\n",
            "[I 2025-02-22 18:58:42,729] Trial 13 finished with value: 0.28395061728395066 and parameters: {'n_estimators': 150, 'learning_rate': 0.043627765506259936, 'max_depth': 4}. Best is trial 3 with value: 0.279835390946502.\n",
            "[I 2025-02-22 18:58:43,025] Trial 14 finished with value: 0.2716049382716049 and parameters: {'n_estimators': 200, 'learning_rate': 0.041848073632130396, 'max_depth': 4}. Best is trial 14 with value: 0.2716049382716049.\n",
            "[I 2025-02-22 18:58:43,147] Trial 15 finished with value: 0.2880658436213992 and parameters: {'n_estimators': 200, 'learning_rate': 0.09726713258407793, 'max_depth': 4}. Best is trial 14 with value: 0.2716049382716049.\n",
            "[I 2025-02-22 18:58:43,245] Trial 16 finished with value: 0.2962962962962963 and parameters: {'n_estimators': 200, 'learning_rate': 0.010969758132318111, 'max_depth': 5}. Best is trial 14 with value: 0.2716049382716049.\n",
            "[I 2025-02-22 18:58:43,472] Trial 17 finished with value: 0.28395061728395066 and parameters: {'n_estimators': 250, 'learning_rate': 0.06728108651840498, 'max_depth': 5}. Best is trial 14 with value: 0.2716049382716049.\n",
            "[I 2025-02-22 18:58:43,691] Trial 18 finished with value: 0.3004115226337448 and parameters: {'n_estimators': 200, 'learning_rate': 0.034516464020024076, 'max_depth': 4}. Best is trial 14 with value: 0.2716049382716049.\n",
            "[I 2025-02-22 18:58:43,853] Trial 19 finished with value: 0.279835390946502 and parameters: {'n_estimators': 100, 'learning_rate': 0.05815370702381138, 'max_depth': 5}. Best is trial 14 with value: 0.2716049382716049.\n",
            "[I 2025-02-22 18:58:43,951] Trial 20 finished with value: 0.29218106995884774 and parameters: {'n_estimators': 200, 'learning_rate': 0.11660143693061273, 'max_depth': 5}. Best is trial 14 with value: 0.2716049382716049.\n",
            "[I 2025-02-22 18:58:44,076] Trial 21 finished with value: 0.29218106995884774 and parameters: {'n_estimators': 100, 'learning_rate': 0.06014716081966505, 'max_depth': 5}. Best is trial 14 with value: 0.2716049382716049.\n",
            "[I 2025-02-22 18:58:44,136] Trial 22 finished with value: 0.2962962962962963 and parameters: {'n_estimators': 100, 'learning_rate': 0.029550636801734025, 'max_depth': 5}. Best is trial 14 with value: 0.2716049382716049.\n",
            "[I 2025-02-22 18:58:44,200] Trial 23 finished with value: 0.2962962962962963 and parameters: {'n_estimators': 150, 'learning_rate': 0.0875992278097942, 'max_depth': 4}. Best is trial 14 with value: 0.2716049382716049.\n",
            "[I 2025-02-22 18:58:44,361] Trial 24 finished with value: 0.29218106995884774 and parameters: {'n_estimators': 50, 'learning_rate': 0.04945423353108295, 'max_depth': 5}. Best is trial 14 with value: 0.2716049382716049.\n",
            "[I 2025-02-22 18:58:44,504] Trial 25 finished with value: 0.2880658436213992 and parameters: {'n_estimators': 150, 'learning_rate': 0.03517240856165424, 'max_depth': 4}. Best is trial 14 with value: 0.2716049382716049.\n",
            "[I 2025-02-22 18:58:44,598] Trial 26 finished with value: 0.28395061728395066 and parameters: {'n_estimators': 100, 'learning_rate': 0.07706849673141672, 'max_depth': 4}. Best is trial 14 with value: 0.2716049382716049.\n",
            "[I 2025-02-22 18:58:44,694] Trial 27 finished with value: 0.2880658436213992 and parameters: {'n_estimators': 150, 'learning_rate': 0.06170300068591747, 'max_depth': 5}. Best is trial 14 with value: 0.2716049382716049.\n",
            "[I 2025-02-22 18:58:44,766] Trial 28 finished with value: 0.2962962962962963 and parameters: {'n_estimators': 100, 'learning_rate': 0.029520671418828477, 'max_depth': 3}. Best is trial 14 with value: 0.2716049382716049.\n",
            "[I 2025-02-22 18:58:44,866] Trial 29 finished with value: 0.2880658436213992 and parameters: {'n_estimators': 150, 'learning_rate': 0.05326292019589163, 'max_depth': 3}. Best is trial 14 with value: 0.2716049382716049.\n",
            "[I 2025-02-22 18:58:44,989] Trial 30 finished with value: 0.25514403292181065 and parameters: {'n_estimators': 150, 'learning_rate': 0.08374413872051761, 'max_depth': 4}. Best is trial 30 with value: 0.25514403292181065.\n",
            "[I 2025-02-22 18:58:45,066] Trial 31 finished with value: 0.2880658436213992 and parameters: {'n_estimators': 150, 'learning_rate': 0.08119813819481612, 'max_depth': 4}. Best is trial 30 with value: 0.25514403292181065.\n",
            "[I 2025-02-22 18:58:45,189] Trial 32 finished with value: 0.28395061728395066 and parameters: {'n_estimators': 200, 'learning_rate': 0.10204227224881901, 'max_depth': 4}. Best is trial 30 with value: 0.25514403292181065.\n",
            "[I 2025-02-22 18:58:45,334] Trial 33 finished with value: 0.279835390946502 and parameters: {'n_estimators': 50, 'learning_rate': 0.05277953355627767, 'max_depth': 5}. Best is trial 30 with value: 0.25514403292181065.\n",
            "[I 2025-02-22 18:58:45,416] Trial 34 finished with value: 0.2962962962962963 and parameters: {'n_estimators': 150, 'learning_rate': 0.06468959675499461, 'max_depth': 3}. Best is trial 30 with value: 0.25514403292181065.\n",
            "[I 2025-02-22 18:58:45,507] Trial 35 finished with value: 0.3004115226337448 and parameters: {'n_estimators': 250, 'learning_rate': 0.08628568658382835, 'max_depth': 6}. Best is trial 30 with value: 0.25514403292181065.\n",
            "[I 2025-02-22 18:58:45,556] Trial 36 finished with value: 0.2880658436213992 and parameters: {'n_estimators': 100, 'learning_rate': 0.11248421923523257, 'max_depth': 5}. Best is trial 30 with value: 0.25514403292181065.\n",
            "[I 2025-02-22 18:58:45,625] Trial 37 finished with value: 0.2880658436213992 and parameters: {'n_estimators': 50, 'learning_rate': 0.13833957700598484, 'max_depth': 4}. Best is trial 30 with value: 0.25514403292181065.\n",
            "[I 2025-02-22 18:58:45,713] Trial 38 finished with value: 0.29218106995884774 and parameters: {'n_estimators': 200, 'learning_rate': 0.07206430292129302, 'max_depth': 6}. Best is trial 30 with value: 0.25514403292181065.\n",
            "[I 2025-02-22 18:58:46,054] Trial 39 finished with value: 0.3004115226337448 and parameters: {'n_estimators': 100, 'learning_rate': 0.020393107826843573, 'max_depth': 6}. Best is trial 30 with value: 0.25514403292181065.\n",
            "[I 2025-02-22 18:58:46,220] Trial 40 finished with value: 0.32098765432098764 and parameters: {'n_estimators': 150, 'learning_rate': 0.041608291648521645, 'max_depth': 7}. Best is trial 30 with value: 0.25514403292181065.\n",
            "[I 2025-02-22 18:58:46,410] Trial 41 finished with value: 0.30452674897119336 and parameters: {'n_estimators': 50, 'learning_rate': 0.04879441420296361, 'max_depth': 5}. Best is trial 30 with value: 0.25514403292181065.\n",
            "[I 2025-02-22 18:58:46,535] Trial 42 finished with value: 0.2962962962962963 and parameters: {'n_estimators': 50, 'learning_rate': 0.055406355665643316, 'max_depth': 5}. Best is trial 30 with value: 0.25514403292181065.\n",
            "[I 2025-02-22 18:58:46,611] Trial 43 finished with value: 0.2962962962962963 and parameters: {'n_estimators': 50, 'learning_rate': 0.02287510042977173, 'max_depth': 5}. Best is trial 30 with value: 0.25514403292181065.\n",
            "[I 2025-02-22 18:58:46,682] Trial 44 finished with value: 0.29218106995884774 and parameters: {'n_estimators': 50, 'learning_rate': 0.036884694292214804, 'max_depth': 6}. Best is trial 30 with value: 0.25514403292181065.\n",
            "[I 2025-02-22 18:58:46,777] Trial 45 finished with value: 0.2716049382716049 and parameters: {'n_estimators': 100, 'learning_rate': 0.07127729296271744, 'max_depth': 4}. Best is trial 30 with value: 0.25514403292181065.\n",
            "[I 2025-02-22 18:58:46,920] Trial 46 finished with value: 0.27572016460905346 and parameters: {'n_estimators': 100, 'learning_rate': 0.07158125250796957, 'max_depth': 4}. Best is trial 30 with value: 0.25514403292181065.\n",
            "[I 2025-02-22 18:58:47,046] Trial 47 finished with value: 0.27572016460905346 and parameters: {'n_estimators': 100, 'learning_rate': 0.09383743352698676, 'max_depth': 4}. Best is trial 30 with value: 0.25514403292181065.\n",
            "[I 2025-02-22 18:58:47,113] Trial 48 finished with value: 0.2962962962962963 and parameters: {'n_estimators': 100, 'learning_rate': 0.09599631192770813, 'max_depth': 3}. Best is trial 30 with value: 0.25514403292181065.\n",
            "[I 2025-02-22 18:58:47,198] Trial 49 finished with value: 0.2962962962962963 and parameters: {'n_estimators': 100, 'learning_rate': 0.10849867878148406, 'max_depth': 4}. Best is trial 30 with value: 0.25514403292181065.\n"
          ]
        },
        {
          "name": "stdout",
          "output_type": "stream",
          "text": [
            "Best Model Accuracy (Optuna): 0.7448559670781894\n"
          ]
        }
      ],
      "source": [
        "# most code from geeks for geeks\n",
        "import optuna\n",
        "from sklearn.ensemble import GradientBoostingClassifier\n",
        "from sklearn.model_selection import train_test_split\n",
        "from sklearn.metrics import accuracy_score\n",
        "from sklearn.preprocessing import StandardScaler\n",
        "\n",
        "\n",
        "# this code is taken from above ################\n",
        "# Combine the quantitative data with the ADHD_Outcome labels\n",
        "train_data = pd.merge(train_quantitative, train_answers, on='participant_id')\n",
        "\n",
        "# Separate features (X) and target variable (y)\n",
        "X = train_data.drop(['participant_id', 'Sex_F', 'ADHD_Outcome', 'MRI_Track_Age_at_Scan'], axis=1)\n",
        "y = train_data['Sex_F']\n",
        "\n",
        "# Split data into training and testing sets\n",
        "X_train, X_test, y_train, y_test = train_test_split(X, y, test_size=0.2, random_state=42)\n",
        "\n",
        "# Scale numerical features\n",
        "scaler2 = StandardScaler()\n",
        "X_train = scaler2.fit_transform(X_train)\n",
        "X_test = scaler2.transform(X_test)\n",
        "###################################################\n",
        "\n",
        "def objective(trial):\n",
        "    param_space = {\n",
        "        'n_estimators': trial.suggest_int('n_estimators', 50, 250, step=50),\n",
        "        'learning_rate': trial.suggest_float('learning_rate', 0.01, 0.2),\n",
        "        'max_depth': trial.suggest_int('max_depth', 3, 7),\n",
        "    }\n",
        "\n",
        "    gb_model = GradientBoostingClassifier(**param_space, validation_fraction=0.1, n_iter_no_change=5, random_state=42)\n",
        "\n",
        "    gb_model.fit(X_train, y_train)\n",
        "\n",
        "    y_pred = gb_model.predict(X_test)\n",
        "\n",
        "    accuracy = accuracy_score(y_test, y_pred)\n",
        "\n",
        "    return 1.0 - accuracy\n",
        "\n",
        "study = optuna.create_study(direction='minimize')\n",
        "study.optimize(objective, n_trials=50)\n",
        "\n",
        "best_params_optuna = study.best_params\n",
        "best_model_optuna = GradientBoostingClassifier(**best_params_optuna, validation_fraction=0.1, n_iter_no_change=5, random_state=42)\n",
        "best_model_optuna.fit(X_train, y_train)\n",
        "\n",
        "y_pred_best_optuna = best_model_optuna.predict(X_test)\n",
        "\n",
        "accuracy_best_optuna = accuracy_score(y_test, y_pred_best_optuna)\n",
        "\n",
        "print(f\"Best Model Accuracy (Optuna): {accuracy_best_optuna}\")\n"
      ]
    },
    {
      "cell_type": "markdown",
      "metadata": {
        "id": "ftsMLnl6UXcE"
      },
      "source": [
        "Making models based on best parameters"
      ]
    },
    {
      "cell_type": "code",
      "source": [
        "pip install optuna"
      ],
      "metadata": {
        "colab": {
          "base_uri": "https://localhost:8080/"
        },
        "id": "DvzNP8W4Sefr",
        "outputId": "099bc77e-c0df-4a91-ff2a-20d5786d4ca8"
      },
      "execution_count": null,
      "outputs": [
        {
          "output_type": "stream",
          "name": "stdout",
          "text": [
            "Collecting optuna\n",
            "  Downloading optuna-4.2.1-py3-none-any.whl.metadata (17 kB)\n",
            "Collecting alembic>=1.5.0 (from optuna)\n",
            "  Downloading alembic-1.15.1-py3-none-any.whl.metadata (7.2 kB)\n",
            "Collecting colorlog (from optuna)\n",
            "  Downloading colorlog-6.9.0-py3-none-any.whl.metadata (10 kB)\n",
            "Requirement already satisfied: numpy in /usr/local/lib/python3.11/dist-packages (from optuna) (1.26.4)\n",
            "Requirement already satisfied: packaging>=20.0 in /usr/local/lib/python3.11/dist-packages (from optuna) (24.2)\n",
            "Requirement already satisfied: sqlalchemy>=1.4.2 in /usr/local/lib/python3.11/dist-packages (from optuna) (2.0.38)\n",
            "Requirement already satisfied: tqdm in /usr/local/lib/python3.11/dist-packages (from optuna) (4.67.1)\n",
            "Requirement already satisfied: PyYAML in /usr/local/lib/python3.11/dist-packages (from optuna) (6.0.2)\n",
            "Collecting Mako (from alembic>=1.5.0->optuna)\n",
            "  Downloading Mako-1.3.9-py3-none-any.whl.metadata (2.9 kB)\n",
            "Requirement already satisfied: typing-extensions>=4.12 in /usr/local/lib/python3.11/dist-packages (from alembic>=1.5.0->optuna) (4.12.2)\n",
            "Requirement already satisfied: greenlet!=0.4.17 in /usr/local/lib/python3.11/dist-packages (from sqlalchemy>=1.4.2->optuna) (3.1.1)\n",
            "Requirement already satisfied: MarkupSafe>=0.9.2 in /usr/local/lib/python3.11/dist-packages (from Mako->alembic>=1.5.0->optuna) (3.0.2)\n",
            "Downloading optuna-4.2.1-py3-none-any.whl (383 kB)\n",
            "\u001b[2K   \u001b[90m━━━━━━━━━━━━━━━━━━━━━━━━━━━━━━━━━━━━━━━━\u001b[0m \u001b[32m383.6/383.6 kB\u001b[0m \u001b[31m13.3 MB/s\u001b[0m eta \u001b[36m0:00:00\u001b[0m\n",
            "\u001b[?25hDownloading alembic-1.15.1-py3-none-any.whl (231 kB)\n",
            "\u001b[2K   \u001b[90m━━━━━━━━━━━━━━━━━━━━━━━━━━━━━━━━━━━━━━━━\u001b[0m \u001b[32m231.8/231.8 kB\u001b[0m \u001b[31m20.3 MB/s\u001b[0m eta \u001b[36m0:00:00\u001b[0m\n",
            "\u001b[?25hDownloading colorlog-6.9.0-py3-none-any.whl (11 kB)\n",
            "Downloading Mako-1.3.9-py3-none-any.whl (78 kB)\n",
            "\u001b[2K   \u001b[90m━━━━━━━━━━━━━━━━━━━━━━━━━━━━━━━━━━━━━━━━\u001b[0m \u001b[32m78.5/78.5 kB\u001b[0m \u001b[31m6.3 MB/s\u001b[0m eta \u001b[36m0:00:00\u001b[0m\n",
            "\u001b[?25hInstalling collected packages: Mako, colorlog, alembic, optuna\n",
            "Successfully installed Mako-1.3.9 alembic-1.15.1 colorlog-6.9.0 optuna-4.2.1\n"
          ]
        }
      ]
    },
    {
      "cell_type": "code",
      "execution_count": null,
      "metadata": {
        "id": "1bD1khnIUuKw",
        "colab": {
          "base_uri": "https://localhost:8080/"
        },
        "outputId": "f981c3a6-0724-49b2-c929-32676a95e354"
      },
      "outputs": [
        {
          "output_type": "stream",
          "name": "stderr",
          "text": [
            "[I 2025-03-06 21:08:54,941] A new study created in memory with name: no-name-17897c8f-defd-43f9-998e-8a3d9edff317\n",
            "[I 2025-03-06 21:08:55,052] Trial 0 finished with value: 0.32098765432098764 and parameters: {'n_estimators': 250, 'learning_rate': 0.1064132658276718, 'max_depth': 6}. Best is trial 0 with value: 0.32098765432098764.\n",
            "[I 2025-03-06 21:08:55,161] Trial 1 finished with value: 0.30452674897119336 and parameters: {'n_estimators': 100, 'learning_rate': 0.07883124929623248, 'max_depth': 7}. Best is trial 1 with value: 0.30452674897119336.\n",
            "[I 2025-03-06 21:08:55,243] Trial 2 finished with value: 0.308641975308642 and parameters: {'n_estimators': 150, 'learning_rate': 0.18862022831727554, 'max_depth': 5}. Best is trial 1 with value: 0.30452674897119336.\n",
            "[I 2025-03-06 21:08:55,331] Trial 3 finished with value: 0.3004115226337448 and parameters: {'n_estimators': 150, 'learning_rate': 0.12401832667131461, 'max_depth': 6}. Best is trial 3 with value: 0.3004115226337448.\n",
            "[I 2025-03-06 21:08:55,521] Trial 4 finished with value: 0.2880658436213992 and parameters: {'n_estimators': 200, 'learning_rate': 0.10591981606282029, 'max_depth': 3}. Best is trial 4 with value: 0.2880658436213992.\n",
            "[I 2025-03-06 21:08:55,623] Trial 5 finished with value: 0.308641975308642 and parameters: {'n_estimators': 250, 'learning_rate': 0.10436493974308807, 'max_depth': 7}. Best is trial 4 with value: 0.2880658436213992.\n",
            "[I 2025-03-06 21:08:55,837] Trial 6 finished with value: 0.29218106995884774 and parameters: {'n_estimators': 200, 'learning_rate': 0.060250220072601265, 'max_depth': 5}. Best is trial 4 with value: 0.2880658436213992.\n",
            "[I 2025-03-06 21:08:55,950] Trial 7 finished with value: 0.308641975308642 and parameters: {'n_estimators': 250, 'learning_rate': 0.05067374219390202, 'max_depth': 6}. Best is trial 4 with value: 0.2880658436213992.\n",
            "[I 2025-03-06 21:08:56,041] Trial 8 finished with value: 0.28395061728395066 and parameters: {'n_estimators': 200, 'learning_rate': 0.09066908624769135, 'max_depth': 4}. Best is trial 8 with value: 0.28395061728395066.\n",
            "[I 2025-03-06 21:08:56,229] Trial 9 finished with value: 0.29218106995884774 and parameters: {'n_estimators': 200, 'learning_rate': 0.1353535005523816, 'max_depth': 4}. Best is trial 8 with value: 0.28395061728395066.\n",
            "[I 2025-03-06 21:08:56,732] Trial 10 finished with value: 0.2880658436213992 and parameters: {'n_estimators': 100, 'learning_rate': 0.022662273697638388, 'max_depth': 3}. Best is trial 8 with value: 0.28395061728395066.\n",
            "[I 2025-03-06 21:08:56,912] Trial 11 finished with value: 0.28395061728395066 and parameters: {'n_estimators': 200, 'learning_rate': 0.15075035528311986, 'max_depth': 3}. Best is trial 8 with value: 0.28395061728395066.\n",
            "[I 2025-03-06 21:08:57,065] Trial 12 finished with value: 0.29218106995884774 and parameters: {'n_estimators': 50, 'learning_rate': 0.16843654624377943, 'max_depth': 4}. Best is trial 8 with value: 0.28395061728395066.\n",
            "[I 2025-03-06 21:08:57,170] Trial 13 finished with value: 0.29218106995884774 and parameters: {'n_estimators': 200, 'learning_rate': 0.1548962177703846, 'max_depth': 4}. Best is trial 8 with value: 0.28395061728395066.\n",
            "[I 2025-03-06 21:08:57,228] Trial 14 finished with value: 0.3004115226337448 and parameters: {'n_estimators': 150, 'learning_rate': 0.19890165811404956, 'max_depth': 3}. Best is trial 8 with value: 0.28395061728395066.\n",
            "[I 2025-03-06 21:08:57,368] Trial 15 finished with value: 0.27572016460905346 and parameters: {'n_estimators': 200, 'learning_rate': 0.1456891179535887, 'max_depth': 4}. Best is trial 15 with value: 0.27572016460905346.\n",
            "[I 2025-03-06 21:08:57,629] Trial 16 finished with value: 0.28395061728395066 and parameters: {'n_estimators': 100, 'learning_rate': 0.07873305028084891, 'max_depth': 4}. Best is trial 15 with value: 0.27572016460905346.\n",
            "[I 2025-03-06 21:08:57,812] Trial 17 finished with value: 0.27572016460905346 and parameters: {'n_estimators': 250, 'learning_rate': 0.1286884317063237, 'max_depth': 5}. Best is trial 15 with value: 0.27572016460905346.\n",
            "[I 2025-03-06 21:08:58,003] Trial 18 finished with value: 0.28395061728395066 and parameters: {'n_estimators': 250, 'learning_rate': 0.13373468561950133, 'max_depth': 5}. Best is trial 15 with value: 0.27572016460905346.\n",
            "[I 2025-03-06 21:08:58,181] Trial 19 finished with value: 0.2962962962962963 and parameters: {'n_estimators': 250, 'learning_rate': 0.16598037575364366, 'max_depth': 5}. Best is trial 15 with value: 0.27572016460905346.\n",
            "[I 2025-03-06 21:08:58,348] Trial 20 finished with value: 0.308641975308642 and parameters: {'n_estimators': 250, 'learning_rate': 0.1755818998216322, 'max_depth': 5}. Best is trial 15 with value: 0.27572016460905346.\n",
            "[I 2025-03-06 21:08:58,522] Trial 21 finished with value: 0.29218106995884774 and parameters: {'n_estimators': 200, 'learning_rate': 0.11835848808100033, 'max_depth': 4}. Best is trial 15 with value: 0.27572016460905346.\n",
            "[I 2025-03-06 21:08:58,748] Trial 22 finished with value: 0.28395061728395066 and parameters: {'n_estimators': 150, 'learning_rate': 0.09214883648806639, 'max_depth': 4}. Best is trial 15 with value: 0.27572016460905346.\n",
            "[I 2025-03-06 21:08:59,153] Trial 23 finished with value: 0.29218106995884774 and parameters: {'n_estimators': 200, 'learning_rate': 0.1437745702564898, 'max_depth': 5}. Best is trial 15 with value: 0.27572016460905346.\n",
            "[I 2025-03-06 21:08:59,368] Trial 24 finished with value: 0.29218106995884774 and parameters: {'n_estimators': 200, 'learning_rate': 0.12514933915278753, 'max_depth': 4}. Best is trial 15 with value: 0.27572016460905346.\n",
            "[I 2025-03-06 21:08:59,789] Trial 25 finished with value: 0.30452674897119336 and parameters: {'n_estimators': 250, 'learning_rate': 0.05283249481768192, 'max_depth': 6}. Best is trial 15 with value: 0.27572016460905346.\n",
            "[I 2025-03-06 21:09:00,029] Trial 26 finished with value: 0.279835390946502 and parameters: {'n_estimators': 150, 'learning_rate': 0.09208779595586897, 'max_depth': 4}. Best is trial 15 with value: 0.27572016460905346.\n",
            "[I 2025-03-06 21:09:00,332] Trial 27 finished with value: 0.2962962962962963 and parameters: {'n_estimators': 150, 'learning_rate': 0.03661990680955707, 'max_depth': 5}. Best is trial 15 with value: 0.27572016460905346.\n",
            "[I 2025-03-06 21:09:00,542] Trial 28 finished with value: 0.28395061728395066 and parameters: {'n_estimators': 50, 'learning_rate': 0.07677352860578333, 'max_depth': 3}. Best is trial 15 with value: 0.27572016460905346.\n",
            "[I 2025-03-06 21:09:00,952] Trial 29 finished with value: 0.30452674897119336 and parameters: {'n_estimators': 100, 'learning_rate': 0.11453002521817528, 'max_depth': 5}. Best is trial 15 with value: 0.27572016460905346.\n",
            "[I 2025-03-06 21:09:01,473] Trial 30 finished with value: 0.3168724279835391 and parameters: {'n_estimators': 250, 'learning_rate': 0.09641805575519824, 'max_depth': 6}. Best is trial 15 with value: 0.27572016460905346.\n",
            "[I 2025-03-06 21:09:01,775] Trial 31 finished with value: 0.28395061728395066 and parameters: {'n_estimators': 150, 'learning_rate': 0.08981207154140769, 'max_depth': 4}. Best is trial 15 with value: 0.27572016460905346.\n",
            "[I 2025-03-06 21:09:02,281] Trial 32 finished with value: 0.29218106995884774 and parameters: {'n_estimators': 150, 'learning_rate': 0.06674930910607241, 'max_depth': 4}. Best is trial 15 with value: 0.27572016460905346.\n",
            "[I 2025-03-06 21:09:02,670] Trial 33 finished with value: 0.28395061728395066 and parameters: {'n_estimators': 200, 'learning_rate': 0.13919884162113852, 'max_depth': 4}. Best is trial 15 with value: 0.27572016460905346.\n",
            "[I 2025-03-06 21:09:02,943] Trial 34 finished with value: 0.30452674897119336 and parameters: {'n_estimators': 150, 'learning_rate': 0.11221323070140123, 'max_depth': 3}. Best is trial 15 with value: 0.27572016460905346.\n",
            "[I 2025-03-06 21:09:03,318] Trial 35 finished with value: 0.32098765432098764 and parameters: {'n_estimators': 200, 'learning_rate': 0.12784841626564256, 'max_depth': 7}. Best is trial 15 with value: 0.27572016460905346.\n",
            "[I 2025-03-06 21:09:04,160] Trial 36 finished with value: 0.2880658436213992 and parameters: {'n_estimators': 100, 'learning_rate': 0.08733007035466936, 'max_depth': 5}. Best is trial 15 with value: 0.27572016460905346.\n",
            "[I 2025-03-06 21:09:04,414] Trial 37 finished with value: 0.2962962962962963 and parameters: {'n_estimators': 200, 'learning_rate': 0.10296404086561979, 'max_depth': 4}. Best is trial 15 with value: 0.27572016460905346.\n",
            "[I 2025-03-06 21:09:04,720] Trial 38 finished with value: 0.2962962962962963 and parameters: {'n_estimators': 250, 'learning_rate': 0.07177495022269606, 'max_depth': 3}. Best is trial 15 with value: 0.27572016460905346.\n",
            "[I 2025-03-06 21:09:05,009] Trial 39 finished with value: 0.308641975308642 and parameters: {'n_estimators': 150, 'learning_rate': 0.15357920603180555, 'max_depth': 6}. Best is trial 15 with value: 0.27572016460905346.\n",
            "[I 2025-03-06 21:09:05,359] Trial 40 finished with value: 0.29218106995884774 and parameters: {'n_estimators': 250, 'learning_rate': 0.10122456777932534, 'max_depth': 5}. Best is trial 15 with value: 0.27572016460905346.\n",
            "[I 2025-03-06 21:09:05,521] Trial 41 finished with value: 0.28395061728395066 and parameters: {'n_estimators': 200, 'learning_rate': 0.15850700154805875, 'max_depth': 3}. Best is trial 15 with value: 0.27572016460905346.\n",
            "[I 2025-03-06 21:09:05,695] Trial 42 finished with value: 0.2880658436213992 and parameters: {'n_estimators': 150, 'learning_rate': 0.17880752962162125, 'max_depth': 3}. Best is trial 15 with value: 0.27572016460905346.\n",
            "[I 2025-03-06 21:09:05,929] Trial 43 finished with value: 0.3004115226337448 and parameters: {'n_estimators': 200, 'learning_rate': 0.14959431136625756, 'max_depth': 3}. Best is trial 15 with value: 0.27572016460905346.\n",
            "[I 2025-03-06 21:09:06,157] Trial 44 finished with value: 0.30452674897119336 and parameters: {'n_estimators': 200, 'learning_rate': 0.1459479941998373, 'max_depth': 4}. Best is trial 15 with value: 0.27572016460905346.\n",
            "[I 2025-03-06 21:09:06,376] Trial 45 finished with value: 0.3004115226337448 and parameters: {'n_estimators': 200, 'learning_rate': 0.1285276257201376, 'max_depth': 4}. Best is trial 15 with value: 0.27572016460905346.\n",
            "[I 2025-03-06 21:09:06,534] Trial 46 finished with value: 0.3004115226337448 and parameters: {'n_estimators': 150, 'learning_rate': 0.11838974513991846, 'max_depth': 3}. Best is trial 15 with value: 0.27572016460905346.\n",
            "[I 2025-03-06 21:09:06,844] Trial 47 finished with value: 0.308641975308642 and parameters: {'n_estimators': 250, 'learning_rate': 0.1629991303647527, 'max_depth': 4}. Best is trial 15 with value: 0.27572016460905346.\n",
            "[I 2025-03-06 21:09:07,028] Trial 48 finished with value: 0.27572016460905346 and parameters: {'n_estimators': 200, 'learning_rate': 0.1361185586191428, 'max_depth': 5}. Best is trial 15 with value: 0.27572016460905346.\n",
            "[I 2025-03-06 21:09:07,482] Trial 49 finished with value: 0.30452674897119336 and parameters: {'n_estimators': 200, 'learning_rate': 0.08601565591920331, 'max_depth': 5}. Best is trial 15 with value: 0.27572016460905346.\n"
          ]
        },
        {
          "output_type": "stream",
          "name": "stdout",
          "text": [
            "Best Model Accuracy (Optuna): 0.7242798353909465\n"
          ]
        }
      ],
      "source": [
        "#ADHD\n",
        "import optuna\n",
        "from sklearn.ensemble import GradientBoostingClassifier\n",
        "from sklearn.model_selection import train_test_split\n",
        "from sklearn.metrics import accuracy_score\n",
        "from sklearn.preprocessing import StandardScaler\n",
        "\n",
        "\n",
        "# this code is taken from above ################\n",
        "# Combine the quantitative data with the ADHD_Outcome labels\n",
        "train_data = pd.merge(train_quantitative, train_answers, on='participant_id')\n",
        "\n",
        "# Separate features (X) and target variable (y)\n",
        "X = train_data.drop(['participant_id', 'Sex_F', 'ADHD_Outcome', 'MRI_Track_Age_at_Scan'], axis=1)\n",
        "y = train_data['Sex_F']\n",
        "\n",
        "# Split data into training and testing sets\n",
        "X_train, X_test, y_train, y_test = train_test_split(X, y, test_size=0.2, random_state=42)\n",
        "\n",
        "# Scale numerical features\n",
        "scaler2 = StandardScaler()\n",
        "X_train = scaler2.fit_transform(X_train)\n",
        "X_test = scaler2.transform(X_test)\n",
        "###################################################\n",
        "\n",
        "def objective(trial):\n",
        "    param_space = {\n",
        "        'n_estimators': trial.suggest_int('n_estimators', 50, 250, step=50),\n",
        "        'learning_rate': trial.suggest_float('learning_rate', 0.01, 0.2),\n",
        "        'max_depth': trial.suggest_int('max_depth', 3, 7),\n",
        "    }\n",
        "\n",
        "    gb_model = GradientBoostingClassifier(**param_space, validation_fraction=0.1, n_iter_no_change=5, random_state=42)\n",
        "\n",
        "    gb_model.fit(X_train, y_train)\n",
        "\n",
        "    y_pred = gb_model.predict(X_test)\n",
        "\n",
        "    accuracy = accuracy_score(y_test, y_pred)\n",
        "\n",
        "    return 1.0 - accuracy\n",
        "\n",
        "study = optuna.create_study(direction='minimize')\n",
        "study.optimize(objective, n_trials=50)\n",
        "\n",
        "best_params_optuna = study.best_params\n",
        "best_model_optuna = GradientBoostingClassifier(**best_params_optuna, validation_fraction=0.1, n_iter_no_change=5, random_state=42)\n",
        "best_model_optuna.fit(X_train, y_train)\n",
        "\n",
        "y_pred_best_optuna = best_model_optuna.predict(X_test)\n",
        "\n",
        "accuracy_best_optuna = accuracy_score(y_test, y_pred_best_optuna)\n",
        "\n",
        "print(f\"Best Model Accuracy (Optuna): {accuracy_best_optuna}\")\n",
        "\n"
      ]
    },
    {
      "cell_type": "code",
      "source": [
        "from sklearn.linear_model import LogisticRegression\n",
        "from sklearn.model_selection import train_test_split, cross_val_score\n",
        "from sklearn.preprocessing import StandardScaler\n",
        "from sklearn.metrics import f1_score\n",
        "\n",
        "# Combine the quantitative data with the gender labels\n",
        "train_data = pd.merge(train_quantitative, train_answers, on='participant_id')\n",
        "\n",
        "# Separate features (X) and target variable (y)\n",
        "X = train_data.drop(['participant_id', 'Sex_F', 'ADHD_Outcome', 'MRI_Track_Age_at_Scan'], axis=1)\n",
        "y = train_data['ADHD_Outcome']\n",
        "\n",
        "# Split data into training and testing sets\n",
        "X_train, X_test, y_train, y_test = train_test_split(\n",
        "    X, y, test_size=0.2, random_state=42, stratify=y\n",
        ")\n",
        "\n",
        "# Scale numerical features\n",
        "scaler = StandardScaler()\n",
        "X_train = scaler.fit_transform(X_train)\n",
        "X_test = scaler.transform(X_test)\n",
        "\n",
        "# Create and train the logistic regression model with class weights\n",
        "logistic_model = LogisticRegression(\n",
        "    class_weight={0: 1, 1: 2},  # Double the weight for ADHD cases\n",
        "    solver='liblinear',\n",
        "    max_iter=1000\n",
        ")\n",
        "logistic_model.fit(X_train, y_train)\n",
        "\n",
        "# Make predictions on the test set\n",
        "y_pred = logistic_model.predict(X_test)\n",
        "\n",
        "# Evaluate using F1 score\n",
        "test_f1 = f1_score(y_test, y_pred)\n",
        "print(f'Test F1 Score of Logistic Regression (ADHD): {test_f1:.4f}')\n",
        "\n",
        "# Evaluate on the training set to check for underfitting/overfitting\n",
        "y_train_pred = logistic_model.predict(X_train)\n",
        "train_f1 = f1_score(y_train, y_train_pred)\n",
        "print(f'Training F1 Score of Logistic Regression (ADHD): {train_f1:.4f}')\n"
      ],
      "metadata": {
        "colab": {
          "base_uri": "https://localhost:8080/"
        },
        "id": "a_CmPJiBH4Tn",
        "outputId": "cb7d4e26-3447-43ac-dd11-64755723d574"
      },
      "execution_count": null,
      "outputs": [
        {
          "output_type": "stream",
          "name": "stdout",
          "text": [
            "Test F1 Score of Logistic Regression (ADHD): 0.8564\n",
            "Training F1 Score of Logistic Regression (ADHD): 0.8696\n"
          ]
        }
      ]
    },
    {
      "cell_type": "code",
      "source": [
        "# Separate features and target\n",
        "X = train_data.drop(['participant_id', 'Sex_F', 'ADHD_Outcome', 'MRI_Track_Age_at_Scan'], axis=1)\n",
        "y = train_data['Sex_F']\n",
        "\n",
        "# Split data into training and testing sets\n",
        "X_train, X_test, y_train, y_test = train_test_split(\n",
        "    X, y, test_size=0.2, random_state=42, stratify=y\n",
        ")\n",
        "\n",
        "# Scale numerical features\n",
        "scaler = StandardScaler()\n",
        "X_train = scaler.fit_transform(X_train)\n",
        "X_test = scaler.transform(X_test)\n",
        "\n",
        "# Create and train the logistic regression model with class weights\n",
        "logistic_model = LogisticRegression(\n",
        "    class_weight={0: 1, 1: 2},  # Double weight for females\n",
        "    solver='liblinear',\n",
        "    max_iter=1000\n",
        ")\n",
        "logistic_model.fit(X_train, y_train)\n",
        "\n",
        "# Cross-validation using F1 score\n",
        "cv_scores = cross_val_score(logistic_model, X_train, y_train, cv=5, scoring='f1')\n",
        "mean_f1 = np.mean(cv_scores)\n",
        "std_f1 = np.std(cv_scores)\n",
        "print(f'Logistic Regression: Mean F1 = {mean_f1:.4f}, Std Dev = {std_f1:.4f}')\n",
        "\n",
        "# Make predictions on the test set\n",
        "y_pred = logistic_model.predict(X_test)\n",
        "\n",
        "# Evaluate using F1 score\n",
        "test_f1 = f1_score(y_test, y_pred)\n",
        "print(f'Test F1 Score (Sex_F): {test_f1:.4f}')\n",
        "\n",
        "# Check performance on the training set\n",
        "y_train_pred = logistic_model.predict(X_train)\n",
        "train_f1 = f1_score(y_train, y_train_pred)\n",
        "print(f'Training F1 Score (Sex_F): {train_f1:.4f}')\n"
      ],
      "metadata": {
        "colab": {
          "base_uri": "https://localhost:8080/"
        },
        "id": "bHOPc60rH0Lk",
        "outputId": "a80131f9-08d0-4a72-96ae-d62fcf4f0af1"
      },
      "execution_count": null,
      "outputs": [
        {
          "output_type": "stream",
          "name": "stdout",
          "text": [
            "Logistic Regression: Mean F1 = 0.5196, Std Dev = 0.0288\n",
            "Test F1 Score (Sex_F): 0.5346\n",
            "Training F1 Score (Sex_F): 0.5389\n"
          ]
        }
      ]
    },
    {
      "cell_type": "markdown",
      "source": [
        "## Miscell: Sex_F Prediction Further Work\n",
        "\n",
        "Continued trying to optimize for sex prediction. Unsuccessful - best bet is going straight 1's."
      ],
      "metadata": {
        "id": "og2C4kIEI1uV"
      }
    },
    {
      "cell_type": "code",
      "source": [
        "# Separate features (X) and target variable (y)\n",
        "X = train_data.drop(['participant_id', 'Sex_F', 'ADHD_Outcome', 'MRI_Track_Age_at_Scan'], axis=1)\n",
        "y = train_data['Sex_F']\n",
        "\n",
        "# Split data into training and testing sets (stratify to maintain class balance)\n",
        "X_train, X_test, y_train, y_test = train_test_split(\n",
        "    X, y, test_size=0.2, random_state=42, stratify=y\n",
        ")\n",
        "\n",
        "# Scale numerical features\n",
        "scaler = StandardScaler()\n",
        "X_train = scaler.fit_transform(X_train)\n",
        "X_test = scaler.transform(X_test)\n",
        "\n",
        "# Initialize the Gradient Boosting Classifier\n",
        "gbc = GradientBoostingClassifier(\n",
        "    learning_rate=0.05,  # Learning rate controls step size (lower = more stable)\n",
        "    n_estimators=200,     # Number of boosting stages (more = higher complexity)\n",
        "    max_depth=3,          # Limits tree depth to avoid overfitting\n",
        "    subsample=0.8,        # Fraction of samples to use for training\n",
        "    random_state=42\n",
        ")\n",
        "\n",
        "# Cross-validation using F1 score\n",
        "cv_scores = cross_val_score(gbc, X_train, y_train, cv=5, scoring='f1')\n",
        "mean_f1 = np.mean(cv_scores)\n",
        "std_f1 = np.std(cv_scores)\n",
        "print(f'Gradient Boosting: Mean F1 = {mean_f1:.4f}, Std Dev = {std_f1:.4f}')\n",
        "\n",
        "# Train model on the training set\n",
        "gbc.fit(X_train, y_train)\n",
        "\n",
        "# Predict on the test set\n",
        "y_pred = gbc.predict(X_test)\n",
        "\n",
        "# Evaluate using F1 score\n",
        "test_f1 = f1_score(y_test, y_pred)\n",
        "print(f'Test F1 Score (Sex_F): {test_f1:.4f}')\n",
        "\n",
        "# Evaluate on training set for overfitting\n",
        "y_train_pred = gbc.predict(X_train)\n",
        "train_f1 = f1_score(y_train, y_train_pred)\n",
        "print(f'Training F1 Score (Sex_F): {train_f1:.4f}')\n"
      ],
      "metadata": {
        "colab": {
          "base_uri": "https://localhost:8080/"
        },
        "id": "YmCjDbBjI4me",
        "outputId": "299e2712-6329-4ad6-9591-b7af6b79d548"
      },
      "execution_count": null,
      "outputs": [
        {
          "output_type": "stream",
          "name": "stdout",
          "text": [
            "Gradient Boosting: Mean F1 = 0.2981, Std Dev = 0.0529\n",
            "Test F1 Score (Sex_F): 0.4286\n",
            "Training F1 Score (Sex_F): 0.6855\n"
          ]
        }
      ]
    },
    {
      "cell_type": "markdown",
      "metadata": {
        "id": "E9BKKh7RzQUG"
      },
      "source": [
        "<h1> Submission to Kaggle </h1>\n",
        "<h2> Data Preparation </h2>\n",
        "Check for missing values in the test dataset"
      ]
    },
    {
      "cell_type": "code",
      "execution_count": null,
      "metadata": {
        "id": "ympZzoF2qwwv"
      },
      "outputs": [],
      "source": [
        "test_quantitative = pd.read_excel('TEST/TEST_QUANTITATIVE_METADATA.xlsx')"
      ]
    },
    {
      "cell_type": "code",
      "execution_count": null,
      "metadata": {
        "colab": {
          "base_uri": "https://localhost:8080/"
        },
        "id": "Uz_sxYww1Ju-",
        "outputId": "023f6875-63d2-4147-b58d-dc3edc92822f"
      },
      "outputs": [
        {
          "output_type": "execute_result",
          "data": {
            "text/plain": [
              "Index(['participant_id', 'EHQ_EHQ_Total', 'ColorVision_CV_Score',\n",
              "       'APQ_P_APQ_P_CP', 'APQ_P_APQ_P_ID', 'APQ_P_APQ_P_INV',\n",
              "       'APQ_P_APQ_P_OPD', 'APQ_P_APQ_P_PM', 'APQ_P_APQ_P_PP',\n",
              "       'SDQ_SDQ_Conduct_Problems', 'SDQ_SDQ_Difficulties_Total',\n",
              "       'SDQ_SDQ_Emotional_Problems', 'SDQ_SDQ_Externalizing',\n",
              "       'SDQ_SDQ_Generating_Impact', 'SDQ_SDQ_Hyperactivity',\n",
              "       'SDQ_SDQ_Internalizing', 'SDQ_SDQ_Peer_Problems', 'SDQ_SDQ_Prosocial',\n",
              "       'MRI_Track_Age_at_Scan'],\n",
              "      dtype='object')"
            ]
          },
          "metadata": {},
          "execution_count": 11
        }
      ],
      "source": [
        "test_quantitative.columns"
      ]
    },
    {
      "cell_type": "code",
      "execution_count": null,
      "metadata": {
        "colab": {
          "base_uri": "https://localhost:8080/"
        },
        "id": "BOSpcz5Q1OLr",
        "outputId": "cccd6769-7a19-481d-8638-563962c5ca11"
      },
      "outputs": [
        {
          "output_type": "execute_result",
          "data": {
            "text/plain": [
              "Index(['participant_id', 'EHQ_EHQ_Total', 'ColorVision_CV_Score',\n",
              "       'APQ_P_APQ_P_CP', 'APQ_P_APQ_P_ID', 'APQ_P_APQ_P_INV',\n",
              "       'APQ_P_APQ_P_OPD', 'APQ_P_APQ_P_PM', 'APQ_P_APQ_P_PP',\n",
              "       'SDQ_SDQ_Conduct_Problems', 'SDQ_SDQ_Difficulties_Total',\n",
              "       'SDQ_SDQ_Emotional_Problems', 'SDQ_SDQ_Externalizing',\n",
              "       'SDQ_SDQ_Generating_Impact', 'SDQ_SDQ_Hyperactivity',\n",
              "       'SDQ_SDQ_Internalizing', 'SDQ_SDQ_Peer_Problems', 'SDQ_SDQ_Prosocial',\n",
              "       'MRI_Track_Age_at_Scan'],\n",
              "      dtype='object')"
            ]
          },
          "metadata": {},
          "execution_count": 12
        }
      ],
      "source": [
        "train_quantitative.columns"
      ]
    },
    {
      "cell_type": "code",
      "execution_count": null,
      "metadata": {
        "colab": {
          "base_uri": "https://localhost:8080/"
        },
        "id": "KUSII-XJAIAk",
        "outputId": "437e4ec9-17ac-47ac-9d50-e5aea2164fb1"
      },
      "outputs": [
        {
          "output_type": "execute_result",
          "data": {
            "text/plain": [
              "(304, 19)"
            ]
          },
          "metadata": {},
          "execution_count": 35
        }
      ],
      "source": [
        "test_quantitative.shape"
      ]
    },
    {
      "cell_type": "code",
      "execution_count": null,
      "metadata": {
        "colab": {
          "base_uri": "https://localhost:8080/",
          "height": 680
        },
        "id": "xfL5WzXI5WW-",
        "outputId": "3e58afcf-d81d-4248-ce8f-3076cdd48681"
      },
      "outputs": [
        {
          "output_type": "execute_result",
          "data": {
            "text/plain": [
              "participant_id                 0\n",
              "EHQ_EHQ_Total                  1\n",
              "ColorVision_CV_Score           9\n",
              "APQ_P_APQ_P_CP                15\n",
              "APQ_P_APQ_P_ID                15\n",
              "APQ_P_APQ_P_INV               15\n",
              "APQ_P_APQ_P_OPD               15\n",
              "APQ_P_APQ_P_PM                15\n",
              "APQ_P_APQ_P_PP                15\n",
              "SDQ_SDQ_Conduct_Problems      30\n",
              "SDQ_SDQ_Difficulties_Total    30\n",
              "SDQ_SDQ_Emotional_Problems    30\n",
              "SDQ_SDQ_Externalizing         30\n",
              "SDQ_SDQ_Generating_Impact     30\n",
              "SDQ_SDQ_Hyperactivity         30\n",
              "SDQ_SDQ_Internalizing         30\n",
              "SDQ_SDQ_Peer_Problems         30\n",
              "SDQ_SDQ_Prosocial             30\n",
              "MRI_Track_Age_at_Scan          0\n",
              "dtype: int64"
            ],
            "text/html": [
              "<div>\n",
              "<style scoped>\n",
              "    .dataframe tbody tr th:only-of-type {\n",
              "        vertical-align: middle;\n",
              "    }\n",
              "\n",
              "    .dataframe tbody tr th {\n",
              "        vertical-align: top;\n",
              "    }\n",
              "\n",
              "    .dataframe thead th {\n",
              "        text-align: right;\n",
              "    }\n",
              "</style>\n",
              "<table border=\"1\" class=\"dataframe\">\n",
              "  <thead>\n",
              "    <tr style=\"text-align: right;\">\n",
              "      <th></th>\n",
              "      <th>0</th>\n",
              "    </tr>\n",
              "  </thead>\n",
              "  <tbody>\n",
              "    <tr>\n",
              "      <th>participant_id</th>\n",
              "      <td>0</td>\n",
              "    </tr>\n",
              "    <tr>\n",
              "      <th>EHQ_EHQ_Total</th>\n",
              "      <td>1</td>\n",
              "    </tr>\n",
              "    <tr>\n",
              "      <th>ColorVision_CV_Score</th>\n",
              "      <td>9</td>\n",
              "    </tr>\n",
              "    <tr>\n",
              "      <th>APQ_P_APQ_P_CP</th>\n",
              "      <td>15</td>\n",
              "    </tr>\n",
              "    <tr>\n",
              "      <th>APQ_P_APQ_P_ID</th>\n",
              "      <td>15</td>\n",
              "    </tr>\n",
              "    <tr>\n",
              "      <th>APQ_P_APQ_P_INV</th>\n",
              "      <td>15</td>\n",
              "    </tr>\n",
              "    <tr>\n",
              "      <th>APQ_P_APQ_P_OPD</th>\n",
              "      <td>15</td>\n",
              "    </tr>\n",
              "    <tr>\n",
              "      <th>APQ_P_APQ_P_PM</th>\n",
              "      <td>15</td>\n",
              "    </tr>\n",
              "    <tr>\n",
              "      <th>APQ_P_APQ_P_PP</th>\n",
              "      <td>15</td>\n",
              "    </tr>\n",
              "    <tr>\n",
              "      <th>SDQ_SDQ_Conduct_Problems</th>\n",
              "      <td>30</td>\n",
              "    </tr>\n",
              "    <tr>\n",
              "      <th>SDQ_SDQ_Difficulties_Total</th>\n",
              "      <td>30</td>\n",
              "    </tr>\n",
              "    <tr>\n",
              "      <th>SDQ_SDQ_Emotional_Problems</th>\n",
              "      <td>30</td>\n",
              "    </tr>\n",
              "    <tr>\n",
              "      <th>SDQ_SDQ_Externalizing</th>\n",
              "      <td>30</td>\n",
              "    </tr>\n",
              "    <tr>\n",
              "      <th>SDQ_SDQ_Generating_Impact</th>\n",
              "      <td>30</td>\n",
              "    </tr>\n",
              "    <tr>\n",
              "      <th>SDQ_SDQ_Hyperactivity</th>\n",
              "      <td>30</td>\n",
              "    </tr>\n",
              "    <tr>\n",
              "      <th>SDQ_SDQ_Internalizing</th>\n",
              "      <td>30</td>\n",
              "    </tr>\n",
              "    <tr>\n",
              "      <th>SDQ_SDQ_Peer_Problems</th>\n",
              "      <td>30</td>\n",
              "    </tr>\n",
              "    <tr>\n",
              "      <th>SDQ_SDQ_Prosocial</th>\n",
              "      <td>30</td>\n",
              "    </tr>\n",
              "    <tr>\n",
              "      <th>MRI_Track_Age_at_Scan</th>\n",
              "      <td>0</td>\n",
              "    </tr>\n",
              "  </tbody>\n",
              "</table>\n",
              "</div><br><label><b>dtype:</b> int64</label>"
            ]
          },
          "metadata": {},
          "execution_count": 13
        }
      ],
      "source": [
        "test_quantitative.isna().sum()"
      ]
    },
    {
      "cell_type": "code",
      "source": [
        "numeric_columns = test_quantitative.select_dtypes(include=['number'])\n",
        "test_quantitative[numeric_columns.columns] = numeric_columns.fillna(numeric_columns.mean())"
      ],
      "metadata": {
        "id": "GKfIxN5A66hu"
      },
      "execution_count": null,
      "outputs": []
    },
    {
      "cell_type": "code",
      "execution_count": null,
      "metadata": {
        "colab": {
          "base_uri": "https://localhost:8080/",
          "height": 680
        },
        "id": "ndwa_zzg3WBZ",
        "outputId": "c44b71e4-0d69-45d8-d15d-02606247f64a"
      },
      "outputs": [
        {
          "output_type": "execute_result",
          "data": {
            "text/plain": [
              "participant_id                0\n",
              "EHQ_EHQ_Total                 0\n",
              "ColorVision_CV_Score          0\n",
              "APQ_P_APQ_P_CP                0\n",
              "APQ_P_APQ_P_ID                0\n",
              "APQ_P_APQ_P_INV               0\n",
              "APQ_P_APQ_P_OPD               0\n",
              "APQ_P_APQ_P_PM                0\n",
              "APQ_P_APQ_P_PP                0\n",
              "SDQ_SDQ_Conduct_Problems      0\n",
              "SDQ_SDQ_Difficulties_Total    0\n",
              "SDQ_SDQ_Emotional_Problems    0\n",
              "SDQ_SDQ_Externalizing         0\n",
              "SDQ_SDQ_Generating_Impact     0\n",
              "SDQ_SDQ_Hyperactivity         0\n",
              "SDQ_SDQ_Internalizing         0\n",
              "SDQ_SDQ_Peer_Problems         0\n",
              "SDQ_SDQ_Prosocial             0\n",
              "MRI_Track_Age_at_Scan         0\n",
              "dtype: int64"
            ],
            "text/html": [
              "<div>\n",
              "<style scoped>\n",
              "    .dataframe tbody tr th:only-of-type {\n",
              "        vertical-align: middle;\n",
              "    }\n",
              "\n",
              "    .dataframe tbody tr th {\n",
              "        vertical-align: top;\n",
              "    }\n",
              "\n",
              "    .dataframe thead th {\n",
              "        text-align: right;\n",
              "    }\n",
              "</style>\n",
              "<table border=\"1\" class=\"dataframe\">\n",
              "  <thead>\n",
              "    <tr style=\"text-align: right;\">\n",
              "      <th></th>\n",
              "      <th>0</th>\n",
              "    </tr>\n",
              "  </thead>\n",
              "  <tbody>\n",
              "    <tr>\n",
              "      <th>participant_id</th>\n",
              "      <td>0</td>\n",
              "    </tr>\n",
              "    <tr>\n",
              "      <th>EHQ_EHQ_Total</th>\n",
              "      <td>0</td>\n",
              "    </tr>\n",
              "    <tr>\n",
              "      <th>ColorVision_CV_Score</th>\n",
              "      <td>0</td>\n",
              "    </tr>\n",
              "    <tr>\n",
              "      <th>APQ_P_APQ_P_CP</th>\n",
              "      <td>0</td>\n",
              "    </tr>\n",
              "    <tr>\n",
              "      <th>APQ_P_APQ_P_ID</th>\n",
              "      <td>0</td>\n",
              "    </tr>\n",
              "    <tr>\n",
              "      <th>APQ_P_APQ_P_INV</th>\n",
              "      <td>0</td>\n",
              "    </tr>\n",
              "    <tr>\n",
              "      <th>APQ_P_APQ_P_OPD</th>\n",
              "      <td>0</td>\n",
              "    </tr>\n",
              "    <tr>\n",
              "      <th>APQ_P_APQ_P_PM</th>\n",
              "      <td>0</td>\n",
              "    </tr>\n",
              "    <tr>\n",
              "      <th>APQ_P_APQ_P_PP</th>\n",
              "      <td>0</td>\n",
              "    </tr>\n",
              "    <tr>\n",
              "      <th>SDQ_SDQ_Conduct_Problems</th>\n",
              "      <td>0</td>\n",
              "    </tr>\n",
              "    <tr>\n",
              "      <th>SDQ_SDQ_Difficulties_Total</th>\n",
              "      <td>0</td>\n",
              "    </tr>\n",
              "    <tr>\n",
              "      <th>SDQ_SDQ_Emotional_Problems</th>\n",
              "      <td>0</td>\n",
              "    </tr>\n",
              "    <tr>\n",
              "      <th>SDQ_SDQ_Externalizing</th>\n",
              "      <td>0</td>\n",
              "    </tr>\n",
              "    <tr>\n",
              "      <th>SDQ_SDQ_Generating_Impact</th>\n",
              "      <td>0</td>\n",
              "    </tr>\n",
              "    <tr>\n",
              "      <th>SDQ_SDQ_Hyperactivity</th>\n",
              "      <td>0</td>\n",
              "    </tr>\n",
              "    <tr>\n",
              "      <th>SDQ_SDQ_Internalizing</th>\n",
              "      <td>0</td>\n",
              "    </tr>\n",
              "    <tr>\n",
              "      <th>SDQ_SDQ_Peer_Problems</th>\n",
              "      <td>0</td>\n",
              "    </tr>\n",
              "    <tr>\n",
              "      <th>SDQ_SDQ_Prosocial</th>\n",
              "      <td>0</td>\n",
              "    </tr>\n",
              "    <tr>\n",
              "      <th>MRI_Track_Age_at_Scan</th>\n",
              "      <td>0</td>\n",
              "    </tr>\n",
              "  </tbody>\n",
              "</table>\n",
              "</div><br><label><b>dtype:</b> int64</label>"
            ]
          },
          "metadata": {},
          "execution_count": 15
        }
      ],
      "source": [
        "test_quantitative.isna().sum()"
      ]
    },
    {
      "cell_type": "markdown",
      "metadata": {
        "id": "3KXtcZAv74ob"
      },
      "source": [
        "<h3> Filling in missing values </h3>\n",
        "Replace with mean of each column's distribution (later, maybe using linear reg or log reg to predict the feature)"
      ]
    },
    {
      "cell_type": "code",
      "execution_count": null,
      "metadata": {
        "colab": {
          "base_uri": "https://localhost:8080/"
        },
        "id": "JEc31kae5Yfo",
        "outputId": "4761a9b2-6a88-4a2d-b1c0-6e56a2727b5a"
      },
      "outputs": [
        {
          "output_type": "stream",
          "name": "stderr",
          "text": [
            "<ipython-input-16-1aacf5fa96da>:7: FutureWarning: A value is trying to be set on a copy of a DataFrame or Series through chained assignment using an inplace method.\n",
            "The behavior will change in pandas 3.0. This inplace method will never work because the intermediate object on which we are setting values always behaves as a copy.\n",
            "\n",
            "For example, when doing 'df[col].method(value, inplace=True)', try using 'df.method({col: value}, inplace=True)' or df[col] = df[col].method(value) instead, to perform the operation inplace on the original object.\n",
            "\n",
            "\n",
            "  X_test_final[col].fillna(X[col].mean(), inplace=True)\n"
          ]
        }
      ],
      "source": [
        "# Drop unnecessary columns and align with training set columns\n",
        "X_test_final = test_quantitative.drop(['participant_id', 'MRI_Track_Age_at_Scan'], axis=1)\n",
        "\n",
        "# Fill missing values using the training set mean (to avoid data leakage)\n",
        "for col in X_test_final.columns:\n",
        "    if col in X.columns:\n",
        "        X_test_final[col].fillna(X[col].mean(), inplace=True)\n",
        "\n",
        "# Ensure the same column order as the training set\n",
        "X_test_final = X_test_final[X.columns]\n",
        "\n",
        "# Scale using the fitted scaler from training set\n",
        "X_test_final_scaled = scaler.transform(X_test_final)"
      ]
    },
    {
      "cell_type": "markdown",
      "metadata": {
        "id": "ALCCHgIc8S1M"
      },
      "source": [
        "## Final Hyperparameter-Optimized Models ---------"
      ]
    },
    {
      "cell_type": "markdown",
      "metadata": {
        "id": "1186QSxC8lwV"
      },
      "source": [
        " GB DT for ADHD_Outcome"
      ]
    },
    {
      "cell_type": "markdown",
      "metadata": {
        "id": "znVRexg78qRv"
      },
      "source": [
        "GB DT For Sex_F"
      ]
    },
    {
      "cell_type": "markdown",
      "source": [
        "**Logistic Regresison model for ADHD**"
      ],
      "metadata": {
        "id": "rJL_EFTh8P8t"
      }
    },
    {
      "cell_type": "code",
      "source": [
        "from sklearn.linear_model import LogisticRegression\n",
        "from sklearn.model_selection import train_test_split\n",
        "from sklearn.preprocessing import StandardScaler\n",
        "from sklearn.metrics import accuracy_score\n",
        "\n",
        "# Combine the quantitative data with the gender labels\n",
        "train_data = pd.merge(train_quantitative, train_answers, on='participant_id')\n",
        "\n",
        "# Separate features (X) and target variable (y)\n",
        "X = train_data.drop(['participant_id', 'Sex_F', 'ADHD_Outcome', 'MRI_Track_Age_at_Scan'], axis=1)\n",
        "y = train_data['ADHD_Outcome']\n",
        "\n",
        "# Split data into training and testing sets\n",
        "X_train, X_test, y_train, y_test = train_test_split(X, y, test_size=0.2, random_state=42)\n",
        "\n",
        "# Scale numerical features\n",
        "scaler = StandardScaler()\n",
        "X_train = scaler.fit_transform(X_train)\n",
        "X_test = scaler.transform(X_test)\n",
        "\n",
        "# Create and train the logistic regression model\n",
        "logistic_model = LogisticRegression()\n",
        "logistic_model.fit(X_train, y_train)\n",
        "\n",
        "# Make predictions on the test set\n",
        "y_pred = logistic_model.predict(X_test)\n",
        "\n",
        "# Evaluate the logistic regression model on the test set\n",
        "test_accuracy = accuracy_score(y_test, y_pred)\n",
        "print(f'Test Accuracy of Logistic Regression: {test_accuracy:.4f}')\n",
        "\n",
        "# Evaluate on the training set to check for underfitting/overfitting\n",
        "y_train_pred = logistic_model.predict(X_train)\n",
        "train_accuracy = accuracy_score(y_train, y_train_pred)\n",
        "print(f'Training Accuracy of Logistic Regression: {train_accuracy:.4f}')\n"
      ],
      "metadata": {
        "colab": {
          "base_uri": "https://localhost:8080/"
        },
        "id": "lzV1EPZE82_Z",
        "outputId": "017e388d-adb6-455a-94f0-f03c0878e723"
      },
      "execution_count": null,
      "outputs": [
        {
          "output_type": "stream",
          "name": "stdout",
          "text": [
            "Test Accuracy of Logistic Regression: 0.8066\n",
            "Training Accuracy of Logistic Regression: 0.8062\n"
          ]
        }
      ]
    },
    {
      "cell_type": "code",
      "source": [
        "X_test_final_scaled = scaler.transform(X_test_final)\n",
        "\n",
        "# Make predictions using the trained logistic regression model\n",
        "adhd_pred_final = logistic_model.predict(X_test_final_scaled)\n",
        "\n",
        "# Optionally, print or inspect the predictions\n",
        "print(f'Predictions for adhd_pred_final: {adhd_pred_final}')"
      ],
      "metadata": {
        "colab": {
          "base_uri": "https://localhost:8080/"
        },
        "id": "P8OUHORh8PNB",
        "outputId": "6308af5d-bc35-42b6-d33d-3ea8b99ef6d1"
      },
      "execution_count": null,
      "outputs": [
        {
          "output_type": "stream",
          "name": "stdout",
          "text": [
            "Predictions for adhd_pred_final: [1 1 1 1 1 1 0 0 1 1 0 1 1 1 1 1 1 1 0 1 1 1 0 1 1 1 0 0 0 1 1 1 1 1 0 1 1\n",
            " 1 1 1 1 1 1 1 1 1 1 1 0 1 0 1 1 0 1 1 0 1 0 1 0 1 1 1 1 1 1 1 1 1 1 1 0 1\n",
            " 0 1 1 1 1 1 1 1 1 1 1 0 1 1 1 0 1 0 0 1 1 1 1 1 1 0 1 1 1 1 1 0 1 0 1 1 1\n",
            " 1 0 1 0 0 1 1 1 1 1 1 1 1 1 0 0 1 0 1 1 1 1 1 0 1 1 1 1 1 1 1 1 1 0 1 0 0\n",
            " 1 1 1 1 1 1 1 1 1 1 0 1 0 1 1 0 1 1 1 1 1 1 0 1 1 0 1 1 1 1 1 1 0 0 0 1 0\n",
            " 1 1 1 1 1 1 0 1 1 1 1 1 0 0 1 1 1 1 0 0 0 0 0 1 1 0 1 1 1 0 1 1 0 1 0 0 1\n",
            " 0 1 1 1 0 1 1 1 1 1 1 1 1 1 0 1 1 1 1 1 1 1 1 1 1 0 1 1 1 1 1 1 1 1 1 1 0\n",
            " 1 1 1 1 1 0 1 1 1 1 0 1 1 0 0 1 1 1 1 1 1 1 1 1 1 1 1 0 0 1 1 1 1 1 1 1 0\n",
            " 1 1 0 1 1 0 1 1]\n"
          ]
        }
      ]
    },
    {
      "cell_type": "code",
      "source": [
        "print(\"coefficients: \", logistic_model.coef_)\n",
        "print(\"intercept: \", logistic_model.intercept_)"
      ],
      "metadata": {
        "colab": {
          "base_uri": "https://localhost:8080/"
        },
        "id": "kPmOdTgZCAq5",
        "outputId": "b5a85e8e-6096-49ae-fc0f-c860f8ac8730"
      },
      "execution_count": null,
      "outputs": [
        {
          "output_type": "stream",
          "name": "stdout",
          "text": [
            "coefficients:  [[-0.01324583 -0.0706093  -0.13277412 -0.04720644 -0.13399689  0.10343249\n",
            "   0.09659269  0.0764005  -0.29448281  0.27701216 -0.20428486  0.50050989\n",
            "   0.44302516  0.94194721 -0.07912481  0.07665316  0.14459435]]\n",
            "intercept:  [1.15889162]\n"
          ]
        }
      ]
    },
    {
      "cell_type": "markdown",
      "source": [
        "**Sex_F Logistic model**"
      ],
      "metadata": {
        "id": "WSdxtlgs9ADy"
      }
    },
    {
      "cell_type": "code",
      "source": [
        "# Combine the quantitative data with the gender labels\n",
        "train_data = pd.merge(train_quantitative, train_answers, on='participant_id')\n",
        "\n",
        "# Separate features (X) and target variable (y)\n",
        "X = train_data.drop(['participant_id', 'Sex_F', 'ADHD_Outcome', 'MRI_Track_Age_at_Scan'], axis=1)\n",
        "y = train_data['Sex_F']\n",
        "\n",
        "# Split data into training and testing sets\n",
        "X_train, X_test, y_train, y_test = train_test_split(X, y, test_size=0.2, random_state=42)\n",
        "\n",
        "# Scale numerical features\n",
        "scaler = StandardScaler()\n",
        "X_train = scaler.fit_transform(X_train)\n",
        "X_test = scaler.transform(X_test)\n",
        "\n",
        "# Initialize the logistic regression model\n",
        "logistic_model = LogisticRegression()\n",
        "\n",
        "# Evaluate the model using cross-validation\n",
        "cv_scores = cross_val_score(logistic_model, X_train, y_train, cv=2)  # 2-fold cross-validation\n",
        "mean_accuracy = np.mean(cv_scores)\n",
        "std_accuracy = np.std(cv_scores)\n",
        "print(f'Logistic Regression: Mean Accuracy = {mean_accuracy:.4f}, Std Dev = {std_accuracy:.4f}')\n",
        "\n",
        "# Train the logistic regression model on the training set\n",
        "logistic_model.fit(X_train, y_train)\n",
        "\n",
        "# Make predictions on the test set\n",
        "y_pred = logistic_model.predict(X_test)\n",
        "\n",
        "# Evaluate the logistic regression model on the test set\n",
        "test_accuracy = accuracy_score(y_test, y_pred)\n",
        "print(f'Test Accuracy: {test_accuracy:.4f}')\n",
        "\n",
        "# Check performance on the training set to evaluate overfitting/underfitting\n",
        "y_train_pred = logistic_model.predict(X_train)\n",
        "train_accuracy = accuracy_score(y_train, y_train_pred)\n",
        "print(f'Training Accuracy: {train_accuracy:.4f}')\n"
      ],
      "metadata": {
        "colab": {
          "base_uri": "https://localhost:8080/"
        },
        "id": "5HX1pkaa9DWi",
        "outputId": "5236c51d-d094-438d-98c8-be14a6e2bb28"
      },
      "execution_count": null,
      "outputs": [
        {
          "output_type": "stream",
          "name": "stdout",
          "text": [
            "Logistic Regression: Mean Accuracy = 0.6588, Std Dev = 0.0072\n",
            "Test Accuracy: 0.7284\n",
            "Training Accuracy: 0.6753\n"
          ]
        }
      ]
    },
    {
      "cell_type": "code",
      "source": [
        "X_test_final_scaled = scaler.transform(X_test_final)\n",
        "\n",
        "# Make predictions using the trained logistic regression model\n",
        "sex_f_pred_final = logistic_model.predict(X_test_final_scaled)\n",
        "\n",
        "# Optionally, print or inspect the predictions\n",
        "print(f'Predictions for X_test_final: {sex_f_pred_final}')"
      ],
      "metadata": {
        "colab": {
          "base_uri": "https://localhost:8080/"
        },
        "id": "xzzlJuWy-Run",
        "outputId": "217a155e-ae70-4537-9936-495e334c8745"
      },
      "execution_count": null,
      "outputs": [
        {
          "output_type": "stream",
          "name": "stdout",
          "text": [
            "Predictions for X_test_final: [0 1 0 0 0 0 0 0 0 1 0 1 0 0 0 0 0 0 1 0 0 0 0 0 0 0 0 1 1 0 0 0 0 0 1 0 0\n",
            " 0 0 0 1 0 0 0 1 0 0 1 0 0 1 0 0 0 0 0 1 0 0 0 0 0 0 0 0 0 0 0 0 0 0 0 1 0\n",
            " 1 0 0 0 0 0 0 0 0 0 1 0 0 0 0 0 0 0 1 0 0 0 0 0 0 0 0 0 0 1 1 0 0 0 1 0 0\n",
            " 0 1 0 0 1 0 0 0 0 0 0 0 0 0 0 1 0 0 0 0 0 0 1 0 1 0 1 0 0 0 0 0 0 1 0 1 0\n",
            " 0 0 0 0 0 0 0 0 0 0 1 0 1 0 0 0 0 0 0 0 0 0 0 0 0 1 0 0 0 0 0 0 1 1 1 0 0\n",
            " 0 1 0 0 0 0 0 0 0 0 0 0 0 1 0 1 0 0 0 0 1 0 1 0 0 1 0 0 1 0 0 0 1 0 1 1 0\n",
            " 0 0 0 0 1 1 0 0 1 0 0 0 0 0 1 0 0 0 0 0 0 0 0 0 0 0 0 0 0 0 1 0 0 0 0 1 0\n",
            " 0 0 1 0 1 0 0 0 0 0 1 0 0 0 1 0 0 0 0 0 0 0 0 0 0 0 0 0 0 0 0 0 0 0 0 0 1\n",
            " 0 0 0 1 0 1 0 0]\n"
          ]
        }
      ]
    },
    {
      "cell_type": "markdown",
      "metadata": {
        "id": "RXbO3N40BcrM"
      },
      "source": [
        "## Export for Submission"
      ]
    },
    {
      "cell_type": "code",
      "execution_count": null,
      "metadata": {
        "colab": {
          "base_uri": "https://localhost:8080/"
        },
        "id": "eAZ1FDhg-Q4c",
        "outputId": "0ededad1-1659-41f4-fb8c-11da1473be69"
      },
      "outputs": [
        {
          "output_type": "stream",
          "name": "stdout",
          "text": [
            "   participant_id  ADHD_Outcome  Sex_F\n",
            "0    Cfwaf5FX7jWK             1      0\n",
            "1    vhGrzmvA3Hjq             1      1\n",
            "2    ULliyEXjy4OV             1      0\n",
            "3    LZfeAb1xMtql             1      0\n",
            "4    EnFOUv0YK1RG             1      0\n",
            "5    3VbkvJ22j9Fu             1      0\n",
            "6    PRKZcnOgqcuk             0      0\n",
            "7    DuVUuyMZi5qV             0      0\n",
            "8    uM4etVLZrgMg             1      0\n",
            "9    BpzyExrET5ta             1      1\n",
            "10   sAqeb6F4lz97             0      0\n",
            "11   u7XOOvHirIx7             1      1\n",
            "12   aEPm4bEQvbYi             1      0\n",
            "13   Fj9A5PWsIWKT             1      0\n",
            "14   19mb5yGJigtw             1      0\n",
            "15   v1nMpCoLGU0V             1      0\n",
            "16   hRPuz4zpsEbw             1      0\n",
            "17   mT8A6xa1O4Ro             1      0\n",
            "18   4QBTjDoVpVt6             0      1\n",
            "19   0X2H4LroxZcw             1      0\n",
            "20   9CH7UxXuznUa             1      0\n",
            "21   nU73zzjTnr4A             1      0\n",
            "22   uEZHGukIUQ0k             0      0\n",
            "23   jCzQwkpfgZyQ             1      0\n",
            "24   Ljvrs76QJuI5             1      0\n",
            "25   IbF3zW0Wbx4Q             1      0\n",
            "26   UHnGiDNksa0x             0      0\n",
            "27   yYjiJsx8PM48             0      1\n",
            "28   1j28gfEoCQ3o             0      1\n",
            "29   dC5XvD5A3tqo             1      0\n"
          ]
        }
      ],
      "source": [
        "participant_ids = test_quantitative['participant_id']\n",
        "\n",
        "# Create a dictionary to hold the data\n",
        "data = {\n",
        "    'participant_id': participant_ids,\n",
        "    'ADHD_Outcome': adhd_pred_final,\n",
        "    'Sex_F': sex_f_pred_final\n",
        "}\n",
        "\n",
        "# Create a Pandas DataFrame\n",
        "df = pd.DataFrame(data)\n",
        "\n",
        "# Save the DataFrame to a CSV file\n",
        "df.to_csv('predictions.csv', index=False)\n",
        "\n",
        "# Print the first few rows to verify (optional)\n",
        "print(df.head(30))\n"
      ]
    },
    {
      "cell_type": "code",
      "source": [
        "# Get value counts for each column\n",
        "for column in df.columns:\n",
        "    print(f\"Value distribution for column '{column}':\")\n",
        "    print(df[column].value_counts())\n",
        "    print(\"\\n\")\n"
      ],
      "metadata": {
        "colab": {
          "base_uri": "https://localhost:8080/"
        },
        "id": "fH-AQ_Nr-3hm",
        "outputId": "2be72196-5a80-4879-c017-ffe1e91e88ec"
      },
      "execution_count": null,
      "outputs": [
        {
          "output_type": "stream",
          "name": "stdout",
          "text": [
            "Value distribution for column 'participant_id':\n",
            "participant_id\n",
            "dQJXfyRazknD    1\n",
            "Cfwaf5FX7jWK    1\n",
            "vhGrzmvA3Hjq    1\n",
            "ULliyEXjy4OV    1\n",
            "LZfeAb1xMtql    1\n",
            "               ..\n",
            "0X2H4LroxZcw    1\n",
            "9CH7UxXuznUa    1\n",
            "nU73zzjTnr4A    1\n",
            "uEZHGukIUQ0k    1\n",
            "jCzQwkpfgZyQ    1\n",
            "Name: count, Length: 304, dtype: int64\n",
            "\n",
            "\n",
            "Value distribution for column 'ADHD_Outcome':\n",
            "ADHD_Outcome\n",
            "1    234\n",
            "0     70\n",
            "Name: count, dtype: int64\n",
            "\n",
            "\n",
            "Value distribution for column 'Sex_F':\n",
            "Sex_F\n",
            "0    248\n",
            "1     56\n",
            "Name: count, dtype: int64\n",
            "\n",
            "\n"
          ]
        }
      ]
    },
    {
      "cell_type": "code",
      "execution_count": null,
      "metadata": {
        "colab": {
          "base_uri": "https://localhost:8080/",
          "height": 17
        },
        "id": "IiDzFWvbAhLY",
        "outputId": "37af2fb0-031f-419f-981e-94023cbf4882"
      },
      "outputs": [
        {
          "output_type": "display_data",
          "data": {
            "text/plain": [
              "<IPython.core.display.Javascript object>"
            ],
            "application/javascript": [
              "\n",
              "    async function download(id, filename, size) {\n",
              "      if (!google.colab.kernel.accessAllowed) {\n",
              "        return;\n",
              "      }\n",
              "      const div = document.createElement('div');\n",
              "      const label = document.createElement('label');\n",
              "      label.textContent = `Downloading \"${filename}\": `;\n",
              "      div.appendChild(label);\n",
              "      const progress = document.createElement('progress');\n",
              "      progress.max = size;\n",
              "      div.appendChild(progress);\n",
              "      document.body.appendChild(div);\n",
              "\n",
              "      const buffers = [];\n",
              "      let downloaded = 0;\n",
              "\n",
              "      const channel = await google.colab.kernel.comms.open(id);\n",
              "      // Send a message to notify the kernel that we're ready.\n",
              "      channel.send({})\n",
              "\n",
              "      for await (const message of channel.messages) {\n",
              "        // Send a message to notify the kernel that we're ready.\n",
              "        channel.send({})\n",
              "        if (message.buffers) {\n",
              "          for (const buffer of message.buffers) {\n",
              "            buffers.push(buffer);\n",
              "            downloaded += buffer.byteLength;\n",
              "            progress.value = downloaded;\n",
              "          }\n",
              "        }\n",
              "      }\n",
              "      const blob = new Blob(buffers, {type: 'application/binary'});\n",
              "      const a = document.createElement('a');\n",
              "      a.href = window.URL.createObjectURL(blob);\n",
              "      a.download = filename;\n",
              "      div.appendChild(a);\n",
              "      a.click();\n",
              "      div.remove();\n",
              "    }\n",
              "  "
            ]
          },
          "metadata": {}
        },
        {
          "output_type": "display_data",
          "data": {
            "text/plain": [
              "<IPython.core.display.Javascript object>"
            ],
            "application/javascript": [
              "download(\"download_769654ce-d676-4e7a-afc0-46c42e2f3604\", \"predictions.csv\", 5202)"
            ]
          },
          "metadata": {}
        }
      ],
      "source": [
        "from google.colab import files\n",
        "df.to_csv('predictions.csv', index=False)\n",
        "files.download('predictions.csv')\n"
      ]
    }
  ],
  "metadata": {
    "accelerator": "GPU",
    "colab": {
      "gpuType": "T4",
      "provenance": [],
      "collapsed_sections": [
        "HE3H2jH9-cvs"
      ]
    },
    "kernelspec": {
      "display_name": "Python 3",
      "name": "python3"
    },
    "language_info": {
      "name": "python"
    }
  },
  "nbformat": 4,
  "nbformat_minor": 0
}